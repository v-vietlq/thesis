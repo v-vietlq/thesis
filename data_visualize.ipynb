{
 "cells": [
  {
   "cell_type": "code",
   "execution_count": 1,
   "metadata": {},
   "outputs": [],
   "source": [
    "import numpy as np \n",
    "import matplotlib.pyplot as plt \n",
    "import cv2 \n",
    "import torch\n",
    "from PIL import Image\n",
    "import json\n",
    "import pandas as pd \n",
    "import seaborn as sns\n",
    "import torchvision.datasets as dset\n",
    "from collections import Counter\n",
    "\n",
    "import plotly.graph_objects as go"
   ]
  },
  {
   "cell_type": "code",
   "execution_count": 37,
   "metadata": {},
   "outputs": [],
   "source": [
    "with open('/home/vietlq4/Downloads/CUFED_split/event_type.json') as f:\n",
    "    data = json.load(f)"
   ]
  },
  {
   "cell_type": "code",
   "execution_count": 38,
   "metadata": {},
   "outputs": [
    {
     "data": {
      "text/plain": [
       "['Birthday']"
      ]
     },
     "execution_count": 38,
     "metadata": {},
     "output_type": "execute_result"
    }
   ],
   "source": [
    "data['1_89803116@N00']"
   ]
  },
  {
   "cell_type": "code",
   "execution_count": 39,
   "metadata": {},
   "outputs": [],
   "source": [
    "df = pd.DataFrame(data.values(), data.keys())"
   ]
  },
  {
   "cell_type": "code",
   "execution_count": 42,
   "metadata": {},
   "outputs": [],
   "source": [
    "from sklearn.model_selection import train_test_split\n",
    "X_train, X_test, y_train, y_test = train_test_split(df.index.values, df[0].values,\n",
    "                                                    stratify= df[0].values, \n",
    "                                                    test_size=0.2)"
   ]
  },
  {
   "cell_type": "code",
   "execution_count": 46,
   "metadata": {},
   "outputs": [
    {
     "data": {
      "text/plain": [
       "array(['95_81227945@N00', '1_34336845@N07', '43_90949166@N00',\n",
       "       '1_93372608@N00', '28_34589965@N00', '0_19086371@N00',\n",
       "       '4_99275942@N00', '7_8865243@N02', '17_61048090@N00',\n",
       "       '6_16247577@N00', '15_58600460@N05', '38_27988337@N00',\n",
       "       '14_8388689@N03', '5_63633763@N00', '37_20881138@N00',\n",
       "       '36_33917831@N00', '8_71486434@N00', '172_7702423@N04',\n",
       "       '38_7614607@N05', '2_47693154@N05', '8_37996586296@N01',\n",
       "       '46_93452909@N00', '1_30705804@N05', '57_48681045@N00',\n",
       "       '2_30275727@N02', '1_90427028@N00', '1_43811561@N00',\n",
       "       '8_45919548@N00', '8_79034573@N00', '15_7494202@N06'], dtype=object)"
      ]
     },
     "execution_count": 46,
     "metadata": {},
     "output_type": "execute_result"
    }
   ],
   "source": [
    "X_test[:30]"
   ]
  },
  {
   "cell_type": "code",
   "execution_count": 5,
   "metadata": {},
   "outputs": [],
   "source": [
    "df_train = df[(df[0].isna() != True ) & (df[1].isna()== True) & (df[2].isna()==True)]"
   ]
  },
  {
   "cell_type": "code",
   "execution_count": 6,
   "metadata": {},
   "outputs": [],
   "source": [
    "df_single = df_train[0]"
   ]
  },
  {
   "cell_type": "code",
   "execution_count": 7,
   "metadata": {},
   "outputs": [],
   "source": [
    "df_single = df_single[df_single != 'PersonalMusicActivity']"
   ]
  },
  {
   "cell_type": "code",
   "execution_count": 8,
   "metadata": {},
   "outputs": [
    {
     "data": {
      "text/plain": [
       "1519"
      ]
     },
     "execution_count": 8,
     "metadata": {},
     "output_type": "execute_result"
    }
   ],
   "source": [
    "len(df_single.values)"
   ]
  },
  {
   "cell_type": "code",
   "execution_count": 9,
   "metadata": {},
   "outputs": [],
   "source": [
    "from sklearn.model_selection import train_test_split\n",
    "X_train, X_test, y_train, y_test = train_test_split(df_single.index.values, df_single.values,\n",
    "                                                    stratify= df_single.values, \n",
    "                                                    test_size=0.2)"
   ]
  },
  {
   "cell_type": "code",
   "execution_count": null,
   "metadata": {},
   "outputs": [],
   "source": [
    "np.savetxt('train_new.txt', X_train.tolist(), fmt='%s', newline='\\n')\n",
    "np.savetxt('test_new.txt', X_test.tolist(), fmt='%s', newline='\\n')\n"
   ]
  },
  {
   "cell_type": "code",
   "execution_count": 10,
   "metadata": {},
   "outputs": [
    {
     "data": {
      "text/plain": [
       "(array(['Architecture', 'BeachTrip', 'Birthday', 'BusinessActivity',\n",
       "        'CasualFamilyGather', 'Christmas', 'Cruise', 'Graduation',\n",
       "        'GroupActivity', 'Halloween', 'Museum', 'NatureTrip',\n",
       "        'PersonalArtActivity', 'PersonalSports', 'Protest',\n",
       "        'ReligiousActivity', 'Show', 'Sports', 'ThemePark', 'UrbanTrip',\n",
       "        'Wedding', 'Zoo'], dtype=object),\n",
       " array([ 5,  7, 32,  9,  4, 19,  9, 35,  5, 18,  8,  6,  6,  6,  9,  7, 19,\n",
       "         9, 18, 17, 38, 18]))"
      ]
     },
     "execution_count": 10,
     "metadata": {},
     "output_type": "execute_result"
    }
   ],
   "source": [
    "np.unique(y_test, return_counts=True)"
   ]
  },
  {
   "cell_type": "code",
   "execution_count": 11,
   "metadata": {},
   "outputs": [
    {
     "data": {
      "text/plain": [
       "Wedding                  191\n",
       "Graduation               172\n",
       "Birthday                 160\n",
       "Show                      94\n",
       "Christmas                 94\n",
       "Halloween                 92\n",
       "Zoo                       90\n",
       "ThemePark                 89\n",
       "UrbanTrip                 86\n",
       "BusinessActivity          47\n",
       "Protest                   47\n",
       "Cruise                    45\n",
       "Sports                    43\n",
       "Museum                    38\n",
       "ReligiousActivity         37\n",
       "BeachTrip                 35\n",
       "PersonalSports            30\n",
       "NatureTrip                30\n",
       "PersonalArtActivity       29\n",
       "GroupActivity             26\n",
       "Architecture              25\n",
       "CasualFamilyGather        19\n",
       "PersonalMusicActivity      1\n",
       "Name: 0, dtype: int64"
      ]
     },
     "execution_count": 11,
     "metadata": {},
     "output_type": "execute_result"
    }
   ],
   "source": [
    "source = df_train[0].value_counts()\n",
    "source"
   ]
  },
  {
   "cell_type": "code",
   "execution_count": 12,
   "metadata": {},
   "outputs": [
    {
     "data": {
      "text/plain": [
       "Wedding                153\n",
       "Graduation             137\n",
       "Birthday               128\n",
       "Show                    75\n",
       "Christmas               75\n",
       "Halloween               74\n",
       "Zoo                     72\n",
       "ThemePark               71\n",
       "UrbanTrip               69\n",
       "Protest                 38\n",
       "BusinessActivity        38\n",
       "Cruise                  36\n",
       "Sports                  34\n",
       "Museum                  30\n",
       "ReligiousActivity       30\n",
       "BeachTrip               28\n",
       "NatureTrip              24\n",
       "PersonalSports          24\n",
       "PersonalArtActivity     23\n",
       "GroupActivity           21\n",
       "Architecture            20\n",
       "CasualFamilyGather      15\n",
       "dtype: int64"
      ]
     },
     "execution_count": 12,
     "metadata": {},
     "output_type": "execute_result"
    }
   ],
   "source": [
    "source = pd.Series(y_train).value_counts()\n",
    "source"
   ]
  },
  {
   "cell_type": "code",
   "execution_count": 2,
   "metadata": {},
   "outputs": [
    {
     "data": {
      "text/plain": [
       "{'Wedding': 1.0,\n",
       " 'Graduation         ': 1.0,\n",
       " 'Birthday           ': 1.0,\n",
       " 'Show               ': 1.0,\n",
       " 'Christmas          ': 1.0,\n",
       " 'Halloween          ': 1.0,\n",
       " 'Zoo                ': 1.0,\n",
       " 'ThemePark          ': 1.0,\n",
       " 'UrbanTrip          ': 1.0,\n",
       " 'Protest            ': 1.5677932111623818,\n",
       " 'BusinessActivity   ': 1.5677932111623818,\n",
       " 'Cruise             ': 1.6218604324326575,\n",
       " 'Sports             ': 1.6790188462726061,\n",
       " 'Museum             ': 1.8041819892266122,\n",
       " 'ReligiousActivity  ': 1.8041819892266122,\n",
       " 'BeachTrip          ': 1.8731748607135636,\n",
       " 'NatureTrip         ': 2.0273255405408217,\n",
       " 'PersonalSports     ': 2.0273255405408217,\n",
       " 'PersonalArtActivity': 2.069885154959618,\n",
       " 'GroupActivity      ': 2.1608569331653444,\n",
       " 'Architecture       ': 2.2096470973347766,\n",
       " 'CasualFamilyGather ': 2.4973291697865574}"
      ]
     },
     "execution_count": 2,
     "metadata": {},
     "output_type": "execute_result"
    }
   ],
   "source": [
    "import numpy as np\n",
    "import math\n",
    "\n",
    "# labels_dict : {ind_label: count_label}\n",
    "# mu : parameter to tune \n",
    "\n",
    "def create_class_weight(labels_dict,mu=0.15):\n",
    "    total = np.sum(list(labels_dict.values()))\n",
    "    keys = labels_dict.keys()\n",
    "    class_weight = dict()\n",
    "    \n",
    "    for key in keys:\n",
    "        score = math.log(mu*total/float(labels_dict[key]))\n",
    "        class_weight[key] = score if score > 1.0 else 1.0\n",
    "    \n",
    "    return class_weight\n",
    "\n",
    "# random labels_dict\n",
    "labels_dict = {'Wedding': 153,\n",
    "'Graduation         ':    137,\n",
    "'Birthday           ':    128,\n",
    "'Show               ':     75,\n",
    "'Christmas          ':     75,\n",
    "'Halloween          ':     74,\n",
    "'Zoo                ':     72,\n",
    "'ThemePark          ':     71,\n",
    "'UrbanTrip          ':     69,\n",
    "'Protest            ':     38,\n",
    "'BusinessActivity   ':     38,\n",
    "'Cruise             ':     36,\n",
    "'Sports             ':     34,\n",
    "'Museum             ':     30,\n",
    "'ReligiousActivity  ':     30,\n",
    "'BeachTrip          ':     28,\n",
    "'NatureTrip         ':     24,\n",
    "'PersonalSports     ':     24,\n",
    "'PersonalArtActivity':     23,\n",
    "'GroupActivity      ':     21,\n",
    "'Architecture       ':     20,\n",
    "'CasualFamilyGather ':     15}\n",
    "\n",
    "create_class_weight(labels_dict)"
   ]
  },
  {
   "cell_type": "code",
   "execution_count": null,
   "metadata": {},
   "outputs": [],
   "source": [
    "[2.21, 1.873, 1, 1.567,\n",
    "                  2.497, 1, 1.622, 1, 2.161,\n",
    "                  1, 1.804, 2.027, 2.069,\n",
    "                  2.069, 2.027, 1.567, 1.804,\n",
    "                  1 , 1.679, 1 , 1, 1, 1]"
   ]
  },
  {
   "cell_type": "code",
   "execution_count": 13,
   "metadata": {},
   "outputs": [
    {
     "data": {
      "application/vnd.plotly.v1+json": {
       "config": {
        "plotlyServerURL": "https://plot.ly"
       },
       "data": [
        {
         "labels": [
          "Wedding",
          "Graduation",
          "Birthday",
          "Show",
          "Christmas",
          "Halloween",
          "Zoo",
          "ThemePark",
          "UrbanTrip",
          "Protest",
          "BusinessActivity",
          "Cruise",
          "Sports",
          "Museum",
          "ReligiousActivity",
          "BeachTrip",
          "NatureTrip",
          "PersonalSports",
          "PersonalArtActivity",
          "GroupActivity",
          "Architecture",
          "CasualFamilyGather"
         ],
         "type": "pie",
         "values": [
          153,
          137,
          128,
          75,
          75,
          74,
          72,
          71,
          69,
          38,
          38,
          36,
          34,
          30,
          30,
          28,
          24,
          24,
          23,
          21,
          20,
          15
         ]
        }
       ],
       "layout": {
        "template": {
         "data": {
          "bar": [
           {
            "error_x": {
             "color": "#2a3f5f"
            },
            "error_y": {
             "color": "#2a3f5f"
            },
            "marker": {
             "line": {
              "color": "#E5ECF6",
              "width": 0.5
             },
             "pattern": {
              "fillmode": "overlay",
              "size": 10,
              "solidity": 0.2
             }
            },
            "type": "bar"
           }
          ],
          "barpolar": [
           {
            "marker": {
             "line": {
              "color": "#E5ECF6",
              "width": 0.5
             },
             "pattern": {
              "fillmode": "overlay",
              "size": 10,
              "solidity": 0.2
             }
            },
            "type": "barpolar"
           }
          ],
          "carpet": [
           {
            "aaxis": {
             "endlinecolor": "#2a3f5f",
             "gridcolor": "white",
             "linecolor": "white",
             "minorgridcolor": "white",
             "startlinecolor": "#2a3f5f"
            },
            "baxis": {
             "endlinecolor": "#2a3f5f",
             "gridcolor": "white",
             "linecolor": "white",
             "minorgridcolor": "white",
             "startlinecolor": "#2a3f5f"
            },
            "type": "carpet"
           }
          ],
          "choropleth": [
           {
            "colorbar": {
             "outlinewidth": 0,
             "ticks": ""
            },
            "type": "choropleth"
           }
          ],
          "contour": [
           {
            "colorbar": {
             "outlinewidth": 0,
             "ticks": ""
            },
            "colorscale": [
             [
              0,
              "#0d0887"
             ],
             [
              0.1111111111111111,
              "#46039f"
             ],
             [
              0.2222222222222222,
              "#7201a8"
             ],
             [
              0.3333333333333333,
              "#9c179e"
             ],
             [
              0.4444444444444444,
              "#bd3786"
             ],
             [
              0.5555555555555556,
              "#d8576b"
             ],
             [
              0.6666666666666666,
              "#ed7953"
             ],
             [
              0.7777777777777778,
              "#fb9f3a"
             ],
             [
              0.8888888888888888,
              "#fdca26"
             ],
             [
              1,
              "#f0f921"
             ]
            ],
            "type": "contour"
           }
          ],
          "contourcarpet": [
           {
            "colorbar": {
             "outlinewidth": 0,
             "ticks": ""
            },
            "type": "contourcarpet"
           }
          ],
          "heatmap": [
           {
            "colorbar": {
             "outlinewidth": 0,
             "ticks": ""
            },
            "colorscale": [
             [
              0,
              "#0d0887"
             ],
             [
              0.1111111111111111,
              "#46039f"
             ],
             [
              0.2222222222222222,
              "#7201a8"
             ],
             [
              0.3333333333333333,
              "#9c179e"
             ],
             [
              0.4444444444444444,
              "#bd3786"
             ],
             [
              0.5555555555555556,
              "#d8576b"
             ],
             [
              0.6666666666666666,
              "#ed7953"
             ],
             [
              0.7777777777777778,
              "#fb9f3a"
             ],
             [
              0.8888888888888888,
              "#fdca26"
             ],
             [
              1,
              "#f0f921"
             ]
            ],
            "type": "heatmap"
           }
          ],
          "heatmapgl": [
           {
            "colorbar": {
             "outlinewidth": 0,
             "ticks": ""
            },
            "colorscale": [
             [
              0,
              "#0d0887"
             ],
             [
              0.1111111111111111,
              "#46039f"
             ],
             [
              0.2222222222222222,
              "#7201a8"
             ],
             [
              0.3333333333333333,
              "#9c179e"
             ],
             [
              0.4444444444444444,
              "#bd3786"
             ],
             [
              0.5555555555555556,
              "#d8576b"
             ],
             [
              0.6666666666666666,
              "#ed7953"
             ],
             [
              0.7777777777777778,
              "#fb9f3a"
             ],
             [
              0.8888888888888888,
              "#fdca26"
             ],
             [
              1,
              "#f0f921"
             ]
            ],
            "type": "heatmapgl"
           }
          ],
          "histogram": [
           {
            "marker": {
             "pattern": {
              "fillmode": "overlay",
              "size": 10,
              "solidity": 0.2
             }
            },
            "type": "histogram"
           }
          ],
          "histogram2d": [
           {
            "colorbar": {
             "outlinewidth": 0,
             "ticks": ""
            },
            "colorscale": [
             [
              0,
              "#0d0887"
             ],
             [
              0.1111111111111111,
              "#46039f"
             ],
             [
              0.2222222222222222,
              "#7201a8"
             ],
             [
              0.3333333333333333,
              "#9c179e"
             ],
             [
              0.4444444444444444,
              "#bd3786"
             ],
             [
              0.5555555555555556,
              "#d8576b"
             ],
             [
              0.6666666666666666,
              "#ed7953"
             ],
             [
              0.7777777777777778,
              "#fb9f3a"
             ],
             [
              0.8888888888888888,
              "#fdca26"
             ],
             [
              1,
              "#f0f921"
             ]
            ],
            "type": "histogram2d"
           }
          ],
          "histogram2dcontour": [
           {
            "colorbar": {
             "outlinewidth": 0,
             "ticks": ""
            },
            "colorscale": [
             [
              0,
              "#0d0887"
             ],
             [
              0.1111111111111111,
              "#46039f"
             ],
             [
              0.2222222222222222,
              "#7201a8"
             ],
             [
              0.3333333333333333,
              "#9c179e"
             ],
             [
              0.4444444444444444,
              "#bd3786"
             ],
             [
              0.5555555555555556,
              "#d8576b"
             ],
             [
              0.6666666666666666,
              "#ed7953"
             ],
             [
              0.7777777777777778,
              "#fb9f3a"
             ],
             [
              0.8888888888888888,
              "#fdca26"
             ],
             [
              1,
              "#f0f921"
             ]
            ],
            "type": "histogram2dcontour"
           }
          ],
          "mesh3d": [
           {
            "colorbar": {
             "outlinewidth": 0,
             "ticks": ""
            },
            "type": "mesh3d"
           }
          ],
          "parcoords": [
           {
            "line": {
             "colorbar": {
              "outlinewidth": 0,
              "ticks": ""
             }
            },
            "type": "parcoords"
           }
          ],
          "pie": [
           {
            "automargin": true,
            "type": "pie"
           }
          ],
          "scatter": [
           {
            "marker": {
             "colorbar": {
              "outlinewidth": 0,
              "ticks": ""
             }
            },
            "type": "scatter"
           }
          ],
          "scatter3d": [
           {
            "line": {
             "colorbar": {
              "outlinewidth": 0,
              "ticks": ""
             }
            },
            "marker": {
             "colorbar": {
              "outlinewidth": 0,
              "ticks": ""
             }
            },
            "type": "scatter3d"
           }
          ],
          "scattercarpet": [
           {
            "marker": {
             "colorbar": {
              "outlinewidth": 0,
              "ticks": ""
             }
            },
            "type": "scattercarpet"
           }
          ],
          "scattergeo": [
           {
            "marker": {
             "colorbar": {
              "outlinewidth": 0,
              "ticks": ""
             }
            },
            "type": "scattergeo"
           }
          ],
          "scattergl": [
           {
            "marker": {
             "colorbar": {
              "outlinewidth": 0,
              "ticks": ""
             }
            },
            "type": "scattergl"
           }
          ],
          "scattermapbox": [
           {
            "marker": {
             "colorbar": {
              "outlinewidth": 0,
              "ticks": ""
             }
            },
            "type": "scattermapbox"
           }
          ],
          "scatterpolar": [
           {
            "marker": {
             "colorbar": {
              "outlinewidth": 0,
              "ticks": ""
             }
            },
            "type": "scatterpolar"
           }
          ],
          "scatterpolargl": [
           {
            "marker": {
             "colorbar": {
              "outlinewidth": 0,
              "ticks": ""
             }
            },
            "type": "scatterpolargl"
           }
          ],
          "scatterternary": [
           {
            "marker": {
             "colorbar": {
              "outlinewidth": 0,
              "ticks": ""
             }
            },
            "type": "scatterternary"
           }
          ],
          "surface": [
           {
            "colorbar": {
             "outlinewidth": 0,
             "ticks": ""
            },
            "colorscale": [
             [
              0,
              "#0d0887"
             ],
             [
              0.1111111111111111,
              "#46039f"
             ],
             [
              0.2222222222222222,
              "#7201a8"
             ],
             [
              0.3333333333333333,
              "#9c179e"
             ],
             [
              0.4444444444444444,
              "#bd3786"
             ],
             [
              0.5555555555555556,
              "#d8576b"
             ],
             [
              0.6666666666666666,
              "#ed7953"
             ],
             [
              0.7777777777777778,
              "#fb9f3a"
             ],
             [
              0.8888888888888888,
              "#fdca26"
             ],
             [
              1,
              "#f0f921"
             ]
            ],
            "type": "surface"
           }
          ],
          "table": [
           {
            "cells": {
             "fill": {
              "color": "#EBF0F8"
             },
             "line": {
              "color": "white"
             }
            },
            "header": {
             "fill": {
              "color": "#C8D4E3"
             },
             "line": {
              "color": "white"
             }
            },
            "type": "table"
           }
          ]
         },
         "layout": {
          "annotationdefaults": {
           "arrowcolor": "#2a3f5f",
           "arrowhead": 0,
           "arrowwidth": 1
          },
          "autotypenumbers": "strict",
          "coloraxis": {
           "colorbar": {
            "outlinewidth": 0,
            "ticks": ""
           }
          },
          "colorscale": {
           "diverging": [
            [
             0,
             "#8e0152"
            ],
            [
             0.1,
             "#c51b7d"
            ],
            [
             0.2,
             "#de77ae"
            ],
            [
             0.3,
             "#f1b6da"
            ],
            [
             0.4,
             "#fde0ef"
            ],
            [
             0.5,
             "#f7f7f7"
            ],
            [
             0.6,
             "#e6f5d0"
            ],
            [
             0.7,
             "#b8e186"
            ],
            [
             0.8,
             "#7fbc41"
            ],
            [
             0.9,
             "#4d9221"
            ],
            [
             1,
             "#276419"
            ]
           ],
           "sequential": [
            [
             0,
             "#0d0887"
            ],
            [
             0.1111111111111111,
             "#46039f"
            ],
            [
             0.2222222222222222,
             "#7201a8"
            ],
            [
             0.3333333333333333,
             "#9c179e"
            ],
            [
             0.4444444444444444,
             "#bd3786"
            ],
            [
             0.5555555555555556,
             "#d8576b"
            ],
            [
             0.6666666666666666,
             "#ed7953"
            ],
            [
             0.7777777777777778,
             "#fb9f3a"
            ],
            [
             0.8888888888888888,
             "#fdca26"
            ],
            [
             1,
             "#f0f921"
            ]
           ],
           "sequentialminus": [
            [
             0,
             "#0d0887"
            ],
            [
             0.1111111111111111,
             "#46039f"
            ],
            [
             0.2222222222222222,
             "#7201a8"
            ],
            [
             0.3333333333333333,
             "#9c179e"
            ],
            [
             0.4444444444444444,
             "#bd3786"
            ],
            [
             0.5555555555555556,
             "#d8576b"
            ],
            [
             0.6666666666666666,
             "#ed7953"
            ],
            [
             0.7777777777777778,
             "#fb9f3a"
            ],
            [
             0.8888888888888888,
             "#fdca26"
            ],
            [
             1,
             "#f0f921"
            ]
           ]
          },
          "colorway": [
           "#636efa",
           "#EF553B",
           "#00cc96",
           "#ab63fa",
           "#FFA15A",
           "#19d3f3",
           "#FF6692",
           "#B6E880",
           "#FF97FF",
           "#FECB52"
          ],
          "font": {
           "color": "#2a3f5f"
          },
          "geo": {
           "bgcolor": "white",
           "lakecolor": "white",
           "landcolor": "#E5ECF6",
           "showlakes": true,
           "showland": true,
           "subunitcolor": "white"
          },
          "hoverlabel": {
           "align": "left"
          },
          "hovermode": "closest",
          "mapbox": {
           "style": "light"
          },
          "paper_bgcolor": "white",
          "plot_bgcolor": "#E5ECF6",
          "polar": {
           "angularaxis": {
            "gridcolor": "white",
            "linecolor": "white",
            "ticks": ""
           },
           "bgcolor": "#E5ECF6",
           "radialaxis": {
            "gridcolor": "white",
            "linecolor": "white",
            "ticks": ""
           }
          },
          "scene": {
           "xaxis": {
            "backgroundcolor": "#E5ECF6",
            "gridcolor": "white",
            "gridwidth": 2,
            "linecolor": "white",
            "showbackground": true,
            "ticks": "",
            "zerolinecolor": "white"
           },
           "yaxis": {
            "backgroundcolor": "#E5ECF6",
            "gridcolor": "white",
            "gridwidth": 2,
            "linecolor": "white",
            "showbackground": true,
            "ticks": "",
            "zerolinecolor": "white"
           },
           "zaxis": {
            "backgroundcolor": "#E5ECF6",
            "gridcolor": "white",
            "gridwidth": 2,
            "linecolor": "white",
            "showbackground": true,
            "ticks": "",
            "zerolinecolor": "white"
           }
          },
          "shapedefaults": {
           "line": {
            "color": "#2a3f5f"
           }
          },
          "ternary": {
           "aaxis": {
            "gridcolor": "white",
            "linecolor": "white",
            "ticks": ""
           },
           "baxis": {
            "gridcolor": "white",
            "linecolor": "white",
            "ticks": ""
           },
           "bgcolor": "#E5ECF6",
           "caxis": {
            "gridcolor": "white",
            "linecolor": "white",
            "ticks": ""
           }
          },
          "title": {
           "x": 0.05
          },
          "xaxis": {
           "automargin": true,
           "gridcolor": "white",
           "linecolor": "white",
           "ticks": "",
           "title": {
            "standoff": 15
           },
           "zerolinecolor": "white",
           "zerolinewidth": 2
          },
          "yaxis": {
           "automargin": true,
           "gridcolor": "white",
           "linecolor": "white",
           "ticks": "",
           "title": {
            "standoff": 15
           },
           "zerolinecolor": "white",
           "zerolinewidth": 2
          }
         }
        },
        "title": {
         "text": "Label distribution"
        }
       }
      }
     },
     "metadata": {},
     "output_type": "display_data"
    }
   ],
   "source": [
    "fig = go.Figure(data=[go.Pie(labels=source.index,values=source.values)])\n",
    "fig.update_layout(title='Label distribution')\n",
    "fig.show()\n"
   ]
  },
  {
   "cell_type": "code",
   "execution_count": 30,
   "metadata": {},
   "outputs": [
    {
     "data": {
      "application/vnd.plotly.v1+json": {
       "config": {
        "plotlyServerURL": "https://plot.ly"
       },
       "data": [
        {
         "labels": [
          "Wedding",
          "Graduation",
          "Birthday",
          "Christmas",
          "Show",
          "Halloween",
          "Zoo",
          "ThemePark",
          "UrbanTrip",
          "BusinessActivity",
          "Protest",
          "Cruise",
          "Sports",
          "Museum",
          "ReligiousActivity",
          "BeachTrip",
          "NatureTrip",
          "PersonalSports",
          "PersonalArtActivity",
          "GroupActivity",
          "Architecture",
          "CasualFamilyGather",
          "PersonalMusicActivity"
         ],
         "type": "pie",
         "values": [
          191,
          172,
          160,
          94,
          94,
          92,
          90,
          89,
          86,
          47,
          47,
          45,
          43,
          38,
          37,
          35,
          30,
          30,
          29,
          26,
          25,
          19,
          1
         ]
        }
       ],
       "layout": {
        "template": {
         "data": {
          "bar": [
           {
            "error_x": {
             "color": "#2a3f5f"
            },
            "error_y": {
             "color": "#2a3f5f"
            },
            "marker": {
             "line": {
              "color": "#E5ECF6",
              "width": 0.5
             },
             "pattern": {
              "fillmode": "overlay",
              "size": 10,
              "solidity": 0.2
             }
            },
            "type": "bar"
           }
          ],
          "barpolar": [
           {
            "marker": {
             "line": {
              "color": "#E5ECF6",
              "width": 0.5
             },
             "pattern": {
              "fillmode": "overlay",
              "size": 10,
              "solidity": 0.2
             }
            },
            "type": "barpolar"
           }
          ],
          "carpet": [
           {
            "aaxis": {
             "endlinecolor": "#2a3f5f",
             "gridcolor": "white",
             "linecolor": "white",
             "minorgridcolor": "white",
             "startlinecolor": "#2a3f5f"
            },
            "baxis": {
             "endlinecolor": "#2a3f5f",
             "gridcolor": "white",
             "linecolor": "white",
             "minorgridcolor": "white",
             "startlinecolor": "#2a3f5f"
            },
            "type": "carpet"
           }
          ],
          "choropleth": [
           {
            "colorbar": {
             "outlinewidth": 0,
             "ticks": ""
            },
            "type": "choropleth"
           }
          ],
          "contour": [
           {
            "colorbar": {
             "outlinewidth": 0,
             "ticks": ""
            },
            "colorscale": [
             [
              0,
              "#0d0887"
             ],
             [
              0.1111111111111111,
              "#46039f"
             ],
             [
              0.2222222222222222,
              "#7201a8"
             ],
             [
              0.3333333333333333,
              "#9c179e"
             ],
             [
              0.4444444444444444,
              "#bd3786"
             ],
             [
              0.5555555555555556,
              "#d8576b"
             ],
             [
              0.6666666666666666,
              "#ed7953"
             ],
             [
              0.7777777777777778,
              "#fb9f3a"
             ],
             [
              0.8888888888888888,
              "#fdca26"
             ],
             [
              1,
              "#f0f921"
             ]
            ],
            "type": "contour"
           }
          ],
          "contourcarpet": [
           {
            "colorbar": {
             "outlinewidth": 0,
             "ticks": ""
            },
            "type": "contourcarpet"
           }
          ],
          "heatmap": [
           {
            "colorbar": {
             "outlinewidth": 0,
             "ticks": ""
            },
            "colorscale": [
             [
              0,
              "#0d0887"
             ],
             [
              0.1111111111111111,
              "#46039f"
             ],
             [
              0.2222222222222222,
              "#7201a8"
             ],
             [
              0.3333333333333333,
              "#9c179e"
             ],
             [
              0.4444444444444444,
              "#bd3786"
             ],
             [
              0.5555555555555556,
              "#d8576b"
             ],
             [
              0.6666666666666666,
              "#ed7953"
             ],
             [
              0.7777777777777778,
              "#fb9f3a"
             ],
             [
              0.8888888888888888,
              "#fdca26"
             ],
             [
              1,
              "#f0f921"
             ]
            ],
            "type": "heatmap"
           }
          ],
          "heatmapgl": [
           {
            "colorbar": {
             "outlinewidth": 0,
             "ticks": ""
            },
            "colorscale": [
             [
              0,
              "#0d0887"
             ],
             [
              0.1111111111111111,
              "#46039f"
             ],
             [
              0.2222222222222222,
              "#7201a8"
             ],
             [
              0.3333333333333333,
              "#9c179e"
             ],
             [
              0.4444444444444444,
              "#bd3786"
             ],
             [
              0.5555555555555556,
              "#d8576b"
             ],
             [
              0.6666666666666666,
              "#ed7953"
             ],
             [
              0.7777777777777778,
              "#fb9f3a"
             ],
             [
              0.8888888888888888,
              "#fdca26"
             ],
             [
              1,
              "#f0f921"
             ]
            ],
            "type": "heatmapgl"
           }
          ],
          "histogram": [
           {
            "marker": {
             "pattern": {
              "fillmode": "overlay",
              "size": 10,
              "solidity": 0.2
             }
            },
            "type": "histogram"
           }
          ],
          "histogram2d": [
           {
            "colorbar": {
             "outlinewidth": 0,
             "ticks": ""
            },
            "colorscale": [
             [
              0,
              "#0d0887"
             ],
             [
              0.1111111111111111,
              "#46039f"
             ],
             [
              0.2222222222222222,
              "#7201a8"
             ],
             [
              0.3333333333333333,
              "#9c179e"
             ],
             [
              0.4444444444444444,
              "#bd3786"
             ],
             [
              0.5555555555555556,
              "#d8576b"
             ],
             [
              0.6666666666666666,
              "#ed7953"
             ],
             [
              0.7777777777777778,
              "#fb9f3a"
             ],
             [
              0.8888888888888888,
              "#fdca26"
             ],
             [
              1,
              "#f0f921"
             ]
            ],
            "type": "histogram2d"
           }
          ],
          "histogram2dcontour": [
           {
            "colorbar": {
             "outlinewidth": 0,
             "ticks": ""
            },
            "colorscale": [
             [
              0,
              "#0d0887"
             ],
             [
              0.1111111111111111,
              "#46039f"
             ],
             [
              0.2222222222222222,
              "#7201a8"
             ],
             [
              0.3333333333333333,
              "#9c179e"
             ],
             [
              0.4444444444444444,
              "#bd3786"
             ],
             [
              0.5555555555555556,
              "#d8576b"
             ],
             [
              0.6666666666666666,
              "#ed7953"
             ],
             [
              0.7777777777777778,
              "#fb9f3a"
             ],
             [
              0.8888888888888888,
              "#fdca26"
             ],
             [
              1,
              "#f0f921"
             ]
            ],
            "type": "histogram2dcontour"
           }
          ],
          "mesh3d": [
           {
            "colorbar": {
             "outlinewidth": 0,
             "ticks": ""
            },
            "type": "mesh3d"
           }
          ],
          "parcoords": [
           {
            "line": {
             "colorbar": {
              "outlinewidth": 0,
              "ticks": ""
             }
            },
            "type": "parcoords"
           }
          ],
          "pie": [
           {
            "automargin": true,
            "type": "pie"
           }
          ],
          "scatter": [
           {
            "marker": {
             "colorbar": {
              "outlinewidth": 0,
              "ticks": ""
             }
            },
            "type": "scatter"
           }
          ],
          "scatter3d": [
           {
            "line": {
             "colorbar": {
              "outlinewidth": 0,
              "ticks": ""
             }
            },
            "marker": {
             "colorbar": {
              "outlinewidth": 0,
              "ticks": ""
             }
            },
            "type": "scatter3d"
           }
          ],
          "scattercarpet": [
           {
            "marker": {
             "colorbar": {
              "outlinewidth": 0,
              "ticks": ""
             }
            },
            "type": "scattercarpet"
           }
          ],
          "scattergeo": [
           {
            "marker": {
             "colorbar": {
              "outlinewidth": 0,
              "ticks": ""
             }
            },
            "type": "scattergeo"
           }
          ],
          "scattergl": [
           {
            "marker": {
             "colorbar": {
              "outlinewidth": 0,
              "ticks": ""
             }
            },
            "type": "scattergl"
           }
          ],
          "scattermapbox": [
           {
            "marker": {
             "colorbar": {
              "outlinewidth": 0,
              "ticks": ""
             }
            },
            "type": "scattermapbox"
           }
          ],
          "scatterpolar": [
           {
            "marker": {
             "colorbar": {
              "outlinewidth": 0,
              "ticks": ""
             }
            },
            "type": "scatterpolar"
           }
          ],
          "scatterpolargl": [
           {
            "marker": {
             "colorbar": {
              "outlinewidth": 0,
              "ticks": ""
             }
            },
            "type": "scatterpolargl"
           }
          ],
          "scatterternary": [
           {
            "marker": {
             "colorbar": {
              "outlinewidth": 0,
              "ticks": ""
             }
            },
            "type": "scatterternary"
           }
          ],
          "surface": [
           {
            "colorbar": {
             "outlinewidth": 0,
             "ticks": ""
            },
            "colorscale": [
             [
              0,
              "#0d0887"
             ],
             [
              0.1111111111111111,
              "#46039f"
             ],
             [
              0.2222222222222222,
              "#7201a8"
             ],
             [
              0.3333333333333333,
              "#9c179e"
             ],
             [
              0.4444444444444444,
              "#bd3786"
             ],
             [
              0.5555555555555556,
              "#d8576b"
             ],
             [
              0.6666666666666666,
              "#ed7953"
             ],
             [
              0.7777777777777778,
              "#fb9f3a"
             ],
             [
              0.8888888888888888,
              "#fdca26"
             ],
             [
              1,
              "#f0f921"
             ]
            ],
            "type": "surface"
           }
          ],
          "table": [
           {
            "cells": {
             "fill": {
              "color": "#EBF0F8"
             },
             "line": {
              "color": "white"
             }
            },
            "header": {
             "fill": {
              "color": "#C8D4E3"
             },
             "line": {
              "color": "white"
             }
            },
            "type": "table"
           }
          ]
         },
         "layout": {
          "annotationdefaults": {
           "arrowcolor": "#2a3f5f",
           "arrowhead": 0,
           "arrowwidth": 1
          },
          "autotypenumbers": "strict",
          "coloraxis": {
           "colorbar": {
            "outlinewidth": 0,
            "ticks": ""
           }
          },
          "colorscale": {
           "diverging": [
            [
             0,
             "#8e0152"
            ],
            [
             0.1,
             "#c51b7d"
            ],
            [
             0.2,
             "#de77ae"
            ],
            [
             0.3,
             "#f1b6da"
            ],
            [
             0.4,
             "#fde0ef"
            ],
            [
             0.5,
             "#f7f7f7"
            ],
            [
             0.6,
             "#e6f5d0"
            ],
            [
             0.7,
             "#b8e186"
            ],
            [
             0.8,
             "#7fbc41"
            ],
            [
             0.9,
             "#4d9221"
            ],
            [
             1,
             "#276419"
            ]
           ],
           "sequential": [
            [
             0,
             "#0d0887"
            ],
            [
             0.1111111111111111,
             "#46039f"
            ],
            [
             0.2222222222222222,
             "#7201a8"
            ],
            [
             0.3333333333333333,
             "#9c179e"
            ],
            [
             0.4444444444444444,
             "#bd3786"
            ],
            [
             0.5555555555555556,
             "#d8576b"
            ],
            [
             0.6666666666666666,
             "#ed7953"
            ],
            [
             0.7777777777777778,
             "#fb9f3a"
            ],
            [
             0.8888888888888888,
             "#fdca26"
            ],
            [
             1,
             "#f0f921"
            ]
           ],
           "sequentialminus": [
            [
             0,
             "#0d0887"
            ],
            [
             0.1111111111111111,
             "#46039f"
            ],
            [
             0.2222222222222222,
             "#7201a8"
            ],
            [
             0.3333333333333333,
             "#9c179e"
            ],
            [
             0.4444444444444444,
             "#bd3786"
            ],
            [
             0.5555555555555556,
             "#d8576b"
            ],
            [
             0.6666666666666666,
             "#ed7953"
            ],
            [
             0.7777777777777778,
             "#fb9f3a"
            ],
            [
             0.8888888888888888,
             "#fdca26"
            ],
            [
             1,
             "#f0f921"
            ]
           ]
          },
          "colorway": [
           "#636efa",
           "#EF553B",
           "#00cc96",
           "#ab63fa",
           "#FFA15A",
           "#19d3f3",
           "#FF6692",
           "#B6E880",
           "#FF97FF",
           "#FECB52"
          ],
          "font": {
           "color": "#2a3f5f"
          },
          "geo": {
           "bgcolor": "white",
           "lakecolor": "white",
           "landcolor": "#E5ECF6",
           "showlakes": true,
           "showland": true,
           "subunitcolor": "white"
          },
          "hoverlabel": {
           "align": "left"
          },
          "hovermode": "closest",
          "mapbox": {
           "style": "light"
          },
          "paper_bgcolor": "white",
          "plot_bgcolor": "#E5ECF6",
          "polar": {
           "angularaxis": {
            "gridcolor": "white",
            "linecolor": "white",
            "ticks": ""
           },
           "bgcolor": "#E5ECF6",
           "radialaxis": {
            "gridcolor": "white",
            "linecolor": "white",
            "ticks": ""
           }
          },
          "scene": {
           "xaxis": {
            "backgroundcolor": "#E5ECF6",
            "gridcolor": "white",
            "gridwidth": 2,
            "linecolor": "white",
            "showbackground": true,
            "ticks": "",
            "zerolinecolor": "white"
           },
           "yaxis": {
            "backgroundcolor": "#E5ECF6",
            "gridcolor": "white",
            "gridwidth": 2,
            "linecolor": "white",
            "showbackground": true,
            "ticks": "",
            "zerolinecolor": "white"
           },
           "zaxis": {
            "backgroundcolor": "#E5ECF6",
            "gridcolor": "white",
            "gridwidth": 2,
            "linecolor": "white",
            "showbackground": true,
            "ticks": "",
            "zerolinecolor": "white"
           }
          },
          "shapedefaults": {
           "line": {
            "color": "#2a3f5f"
           }
          },
          "ternary": {
           "aaxis": {
            "gridcolor": "white",
            "linecolor": "white",
            "ticks": ""
           },
           "baxis": {
            "gridcolor": "white",
            "linecolor": "white",
            "ticks": ""
           },
           "bgcolor": "#E5ECF6",
           "caxis": {
            "gridcolor": "white",
            "linecolor": "white",
            "ticks": ""
           }
          },
          "title": {
           "x": 0.05
          },
          "xaxis": {
           "automargin": true,
           "gridcolor": "white",
           "linecolor": "white",
           "ticks": "",
           "title": {
            "standoff": 15
           },
           "zerolinecolor": "white",
           "zerolinewidth": 2
          },
          "yaxis": {
           "automargin": true,
           "gridcolor": "white",
           "linecolor": "white",
           "ticks": "",
           "title": {
            "standoff": 15
           },
           "zerolinecolor": "white",
           "zerolinewidth": 2
          }
         }
        },
        "title": {
         "text": "Label distribution"
        }
       }
      },
      "text/html": [
       "<div>                            <div id=\"2c2925ca-c9b0-4cfb-a6fc-0ce1e8427186\" class=\"plotly-graph-div\" style=\"height:525px; width:100%;\"></div>            <script type=\"text/javascript\">                require([\"plotly\"], function(Plotly) {                    window.PLOTLYENV=window.PLOTLYENV || {};                                    if (document.getElementById(\"2c2925ca-c9b0-4cfb-a6fc-0ce1e8427186\")) {                    Plotly.newPlot(                        \"2c2925ca-c9b0-4cfb-a6fc-0ce1e8427186\",                        [{\"labels\":[\"Wedding\",\"Graduation\",\"Birthday\",\"Christmas\",\"Show\",\"Halloween\",\"Zoo\",\"ThemePark\",\"UrbanTrip\",\"BusinessActivity\",\"Protest\",\"Cruise\",\"Sports\",\"Museum\",\"ReligiousActivity\",\"BeachTrip\",\"NatureTrip\",\"PersonalSports\",\"PersonalArtActivity\",\"GroupActivity\",\"Architecture\",\"CasualFamilyGather\",\"PersonalMusicActivity\"],\"values\":[191,172,160,94,94,92,90,89,86,47,47,45,43,38,37,35,30,30,29,26,25,19,1],\"type\":\"pie\"}],                        {\"template\":{\"data\":{\"bar\":[{\"error_x\":{\"color\":\"#2a3f5f\"},\"error_y\":{\"color\":\"#2a3f5f\"},\"marker\":{\"line\":{\"color\":\"#E5ECF6\",\"width\":0.5},\"pattern\":{\"fillmode\":\"overlay\",\"size\":10,\"solidity\":0.2}},\"type\":\"bar\"}],\"barpolar\":[{\"marker\":{\"line\":{\"color\":\"#E5ECF6\",\"width\":0.5},\"pattern\":{\"fillmode\":\"overlay\",\"size\":10,\"solidity\":0.2}},\"type\":\"barpolar\"}],\"carpet\":[{\"aaxis\":{\"endlinecolor\":\"#2a3f5f\",\"gridcolor\":\"white\",\"linecolor\":\"white\",\"minorgridcolor\":\"white\",\"startlinecolor\":\"#2a3f5f\"},\"baxis\":{\"endlinecolor\":\"#2a3f5f\",\"gridcolor\":\"white\",\"linecolor\":\"white\",\"minorgridcolor\":\"white\",\"startlinecolor\":\"#2a3f5f\"},\"type\":\"carpet\"}],\"choropleth\":[{\"colorbar\":{\"outlinewidth\":0,\"ticks\":\"\"},\"type\":\"choropleth\"}],\"contour\":[{\"colorbar\":{\"outlinewidth\":0,\"ticks\":\"\"},\"colorscale\":[[0.0,\"#0d0887\"],[0.1111111111111111,\"#46039f\"],[0.2222222222222222,\"#7201a8\"],[0.3333333333333333,\"#9c179e\"],[0.4444444444444444,\"#bd3786\"],[0.5555555555555556,\"#d8576b\"],[0.6666666666666666,\"#ed7953\"],[0.7777777777777778,\"#fb9f3a\"],[0.8888888888888888,\"#fdca26\"],[1.0,\"#f0f921\"]],\"type\":\"contour\"}],\"contourcarpet\":[{\"colorbar\":{\"outlinewidth\":0,\"ticks\":\"\"},\"type\":\"contourcarpet\"}],\"heatmap\":[{\"colorbar\":{\"outlinewidth\":0,\"ticks\":\"\"},\"colorscale\":[[0.0,\"#0d0887\"],[0.1111111111111111,\"#46039f\"],[0.2222222222222222,\"#7201a8\"],[0.3333333333333333,\"#9c179e\"],[0.4444444444444444,\"#bd3786\"],[0.5555555555555556,\"#d8576b\"],[0.6666666666666666,\"#ed7953\"],[0.7777777777777778,\"#fb9f3a\"],[0.8888888888888888,\"#fdca26\"],[1.0,\"#f0f921\"]],\"type\":\"heatmap\"}],\"heatmapgl\":[{\"colorbar\":{\"outlinewidth\":0,\"ticks\":\"\"},\"colorscale\":[[0.0,\"#0d0887\"],[0.1111111111111111,\"#46039f\"],[0.2222222222222222,\"#7201a8\"],[0.3333333333333333,\"#9c179e\"],[0.4444444444444444,\"#bd3786\"],[0.5555555555555556,\"#d8576b\"],[0.6666666666666666,\"#ed7953\"],[0.7777777777777778,\"#fb9f3a\"],[0.8888888888888888,\"#fdca26\"],[1.0,\"#f0f921\"]],\"type\":\"heatmapgl\"}],\"histogram\":[{\"marker\":{\"pattern\":{\"fillmode\":\"overlay\",\"size\":10,\"solidity\":0.2}},\"type\":\"histogram\"}],\"histogram2d\":[{\"colorbar\":{\"outlinewidth\":0,\"ticks\":\"\"},\"colorscale\":[[0.0,\"#0d0887\"],[0.1111111111111111,\"#46039f\"],[0.2222222222222222,\"#7201a8\"],[0.3333333333333333,\"#9c179e\"],[0.4444444444444444,\"#bd3786\"],[0.5555555555555556,\"#d8576b\"],[0.6666666666666666,\"#ed7953\"],[0.7777777777777778,\"#fb9f3a\"],[0.8888888888888888,\"#fdca26\"],[1.0,\"#f0f921\"]],\"type\":\"histogram2d\"}],\"histogram2dcontour\":[{\"colorbar\":{\"outlinewidth\":0,\"ticks\":\"\"},\"colorscale\":[[0.0,\"#0d0887\"],[0.1111111111111111,\"#46039f\"],[0.2222222222222222,\"#7201a8\"],[0.3333333333333333,\"#9c179e\"],[0.4444444444444444,\"#bd3786\"],[0.5555555555555556,\"#d8576b\"],[0.6666666666666666,\"#ed7953\"],[0.7777777777777778,\"#fb9f3a\"],[0.8888888888888888,\"#fdca26\"],[1.0,\"#f0f921\"]],\"type\":\"histogram2dcontour\"}],\"mesh3d\":[{\"colorbar\":{\"outlinewidth\":0,\"ticks\":\"\"},\"type\":\"mesh3d\"}],\"parcoords\":[{\"line\":{\"colorbar\":{\"outlinewidth\":0,\"ticks\":\"\"}},\"type\":\"parcoords\"}],\"pie\":[{\"automargin\":true,\"type\":\"pie\"}],\"scatter\":[{\"marker\":{\"colorbar\":{\"outlinewidth\":0,\"ticks\":\"\"}},\"type\":\"scatter\"}],\"scatter3d\":[{\"line\":{\"colorbar\":{\"outlinewidth\":0,\"ticks\":\"\"}},\"marker\":{\"colorbar\":{\"outlinewidth\":0,\"ticks\":\"\"}},\"type\":\"scatter3d\"}],\"scattercarpet\":[{\"marker\":{\"colorbar\":{\"outlinewidth\":0,\"ticks\":\"\"}},\"type\":\"scattercarpet\"}],\"scattergeo\":[{\"marker\":{\"colorbar\":{\"outlinewidth\":0,\"ticks\":\"\"}},\"type\":\"scattergeo\"}],\"scattergl\":[{\"marker\":{\"colorbar\":{\"outlinewidth\":0,\"ticks\":\"\"}},\"type\":\"scattergl\"}],\"scattermapbox\":[{\"marker\":{\"colorbar\":{\"outlinewidth\":0,\"ticks\":\"\"}},\"type\":\"scattermapbox\"}],\"scatterpolar\":[{\"marker\":{\"colorbar\":{\"outlinewidth\":0,\"ticks\":\"\"}},\"type\":\"scatterpolar\"}],\"scatterpolargl\":[{\"marker\":{\"colorbar\":{\"outlinewidth\":0,\"ticks\":\"\"}},\"type\":\"scatterpolargl\"}],\"scatterternary\":[{\"marker\":{\"colorbar\":{\"outlinewidth\":0,\"ticks\":\"\"}},\"type\":\"scatterternary\"}],\"surface\":[{\"colorbar\":{\"outlinewidth\":0,\"ticks\":\"\"},\"colorscale\":[[0.0,\"#0d0887\"],[0.1111111111111111,\"#46039f\"],[0.2222222222222222,\"#7201a8\"],[0.3333333333333333,\"#9c179e\"],[0.4444444444444444,\"#bd3786\"],[0.5555555555555556,\"#d8576b\"],[0.6666666666666666,\"#ed7953\"],[0.7777777777777778,\"#fb9f3a\"],[0.8888888888888888,\"#fdca26\"],[1.0,\"#f0f921\"]],\"type\":\"surface\"}],\"table\":[{\"cells\":{\"fill\":{\"color\":\"#EBF0F8\"},\"line\":{\"color\":\"white\"}},\"header\":{\"fill\":{\"color\":\"#C8D4E3\"},\"line\":{\"color\":\"white\"}},\"type\":\"table\"}]},\"layout\":{\"annotationdefaults\":{\"arrowcolor\":\"#2a3f5f\",\"arrowhead\":0,\"arrowwidth\":1},\"autotypenumbers\":\"strict\",\"coloraxis\":{\"colorbar\":{\"outlinewidth\":0,\"ticks\":\"\"}},\"colorscale\":{\"diverging\":[[0,\"#8e0152\"],[0.1,\"#c51b7d\"],[0.2,\"#de77ae\"],[0.3,\"#f1b6da\"],[0.4,\"#fde0ef\"],[0.5,\"#f7f7f7\"],[0.6,\"#e6f5d0\"],[0.7,\"#b8e186\"],[0.8,\"#7fbc41\"],[0.9,\"#4d9221\"],[1,\"#276419\"]],\"sequential\":[[0.0,\"#0d0887\"],[0.1111111111111111,\"#46039f\"],[0.2222222222222222,\"#7201a8\"],[0.3333333333333333,\"#9c179e\"],[0.4444444444444444,\"#bd3786\"],[0.5555555555555556,\"#d8576b\"],[0.6666666666666666,\"#ed7953\"],[0.7777777777777778,\"#fb9f3a\"],[0.8888888888888888,\"#fdca26\"],[1.0,\"#f0f921\"]],\"sequentialminus\":[[0.0,\"#0d0887\"],[0.1111111111111111,\"#46039f\"],[0.2222222222222222,\"#7201a8\"],[0.3333333333333333,\"#9c179e\"],[0.4444444444444444,\"#bd3786\"],[0.5555555555555556,\"#d8576b\"],[0.6666666666666666,\"#ed7953\"],[0.7777777777777778,\"#fb9f3a\"],[0.8888888888888888,\"#fdca26\"],[1.0,\"#f0f921\"]]},\"colorway\":[\"#636efa\",\"#EF553B\",\"#00cc96\",\"#ab63fa\",\"#FFA15A\",\"#19d3f3\",\"#FF6692\",\"#B6E880\",\"#FF97FF\",\"#FECB52\"],\"font\":{\"color\":\"#2a3f5f\"},\"geo\":{\"bgcolor\":\"white\",\"lakecolor\":\"white\",\"landcolor\":\"#E5ECF6\",\"showlakes\":true,\"showland\":true,\"subunitcolor\":\"white\"},\"hoverlabel\":{\"align\":\"left\"},\"hovermode\":\"closest\",\"mapbox\":{\"style\":\"light\"},\"paper_bgcolor\":\"white\",\"plot_bgcolor\":\"#E5ECF6\",\"polar\":{\"angularaxis\":{\"gridcolor\":\"white\",\"linecolor\":\"white\",\"ticks\":\"\"},\"bgcolor\":\"#E5ECF6\",\"radialaxis\":{\"gridcolor\":\"white\",\"linecolor\":\"white\",\"ticks\":\"\"}},\"scene\":{\"xaxis\":{\"backgroundcolor\":\"#E5ECF6\",\"gridcolor\":\"white\",\"gridwidth\":2,\"linecolor\":\"white\",\"showbackground\":true,\"ticks\":\"\",\"zerolinecolor\":\"white\"},\"yaxis\":{\"backgroundcolor\":\"#E5ECF6\",\"gridcolor\":\"white\",\"gridwidth\":2,\"linecolor\":\"white\",\"showbackground\":true,\"ticks\":\"\",\"zerolinecolor\":\"white\"},\"zaxis\":{\"backgroundcolor\":\"#E5ECF6\",\"gridcolor\":\"white\",\"gridwidth\":2,\"linecolor\":\"white\",\"showbackground\":true,\"ticks\":\"\",\"zerolinecolor\":\"white\"}},\"shapedefaults\":{\"line\":{\"color\":\"#2a3f5f\"}},\"ternary\":{\"aaxis\":{\"gridcolor\":\"white\",\"linecolor\":\"white\",\"ticks\":\"\"},\"baxis\":{\"gridcolor\":\"white\",\"linecolor\":\"white\",\"ticks\":\"\"},\"bgcolor\":\"#E5ECF6\",\"caxis\":{\"gridcolor\":\"white\",\"linecolor\":\"white\",\"ticks\":\"\"}},\"title\":{\"x\":0.05},\"xaxis\":{\"automargin\":true,\"gridcolor\":\"white\",\"linecolor\":\"white\",\"ticks\":\"\",\"title\":{\"standoff\":15},\"zerolinecolor\":\"white\",\"zerolinewidth\":2},\"yaxis\":{\"automargin\":true,\"gridcolor\":\"white\",\"linecolor\":\"white\",\"ticks\":\"\",\"title\":{\"standoff\":15},\"zerolinecolor\":\"white\",\"zerolinewidth\":2}}},\"title\":{\"text\":\"Label distribution\"}},                        {\"responsive\": true}                    ).then(function(){\n",
       "                            \n",
       "var gd = document.getElementById('2c2925ca-c9b0-4cfb-a6fc-0ce1e8427186');\n",
       "var x = new MutationObserver(function (mutations, observer) {{\n",
       "        var display = window.getComputedStyle(gd).display;\n",
       "        if (!display || display === 'none') {{\n",
       "            console.log([gd, 'removed!']);\n",
       "            Plotly.purge(gd);\n",
       "            observer.disconnect();\n",
       "        }}\n",
       "}});\n",
       "\n",
       "// Listen for the removal of the full notebook cells\n",
       "var notebookContainer = gd.closest('#notebook-container');\n",
       "if (notebookContainer) {{\n",
       "    x.observe(notebookContainer, {childList: true});\n",
       "}}\n",
       "\n",
       "// Listen for the clearing of the current output cell\n",
       "var outputEl = gd.closest('.output');\n",
       "if (outputEl) {{\n",
       "    x.observe(outputEl, {childList: true});\n",
       "}}\n",
       "\n",
       "                        })                };                });            </script>        </div>"
      ]
     },
     "metadata": {},
     "output_type": "display_data"
    }
   ],
   "source": [
    "fig = go.Figure(data=[go.Pie(labels=source.index,values=source.values)])\n",
    "fig.update_layout(title='Label distribution')\n",
    "fig.show()"
   ]
  },
  {
   "cell_type": "code",
   "execution_count": 14,
   "metadata": {},
   "outputs": [],
   "source": [
    "df_multi = df[(df[0].isna() != True ) & (df[1].isna() != True)]"
   ]
  },
  {
   "cell_type": "code",
   "execution_count": 15,
   "metadata": {},
   "outputs": [],
   "source": [
    "df_multi =df_multi[[0,1]]\n"
   ]
  },
  {
   "cell_type": "code",
   "execution_count": 35,
   "metadata": {},
   "outputs": [],
   "source": [
    "df_multi.to_csv('multi.csv')\n"
   ]
  },
  {
   "cell_type": "code",
   "execution_count": 17,
   "metadata": {},
   "outputs": [],
   "source": [
    "from sklearn.model_selection import train_test_split\n",
    "X_train_multi, X_test_multi, y_train_multi, y_test_multi = train_test_split(df_multi.index.values, df_multi.values, \n",
    "                                                    test_size=0.2)"
   ]
  },
  {
   "cell_type": "code",
   "execution_count": 32,
   "metadata": {},
   "outputs": [],
   "source": [
    "np.savetxt('multi.txt', X_train_multi.tolist() + X_test_multi.tolist(), fmt='%s', newline='\\n')"
   ]
  },
  {
   "cell_type": "code",
   "execution_count": 22,
   "metadata": {},
   "outputs": [],
   "source": [
    "test = X_test.tolist() + X_test_multi.tolist()"
   ]
  },
  {
   "cell_type": "code",
   "execution_count": 36,
   "metadata": {},
   "outputs": [
    {
     "data": {
      "text/plain": [
       "73"
      ]
     },
     "execution_count": 36,
     "metadata": {},
     "output_type": "execute_result"
    }
   ],
   "source": [
    "len(X_test_multi)"
   ]
  },
  {
   "cell_type": "code",
   "execution_count": 25,
   "metadata": {},
   "outputs": [
    {
     "data": {
      "text/plain": [
       "['211_28004289@N03',\n",
       " '20_80081080@N00',\n",
       " '0_23451880@N04',\n",
       " '18_9532859@N02',\n",
       " '7_57686217@N02',\n",
       " '0_49502979298@N01',\n",
       " '1_80547277@N00',\n",
       " '19_36686551@N06',\n",
       " '14_13731663@N08',\n",
       " '0_48987853@N00',\n",
       " '13_77888804@N00',\n",
       " '56_87807876@N00',\n",
       " '2_85724483@N00',\n",
       " '9_59248878@N00',\n",
       " '15_54494252@N00',\n",
       " '53_44124466908@N01',\n",
       " '9_33389995@N08',\n",
       " '14_55254782@N00',\n",
       " '2_96212491@N00',\n",
       " '0_73029069@N00',\n",
       " '0_21757951@N00',\n",
       " '7_41284017@N08',\n",
       " '78_40094880@N06',\n",
       " '4_40246574@N04',\n",
       " '2_97281671@N00',\n",
       " '0_53826674@N05',\n",
       " '0_54766648@N00',\n",
       " '1_28004076@N04',\n",
       " '17_10175970@N00',\n",
       " '4_59888866@N00',\n",
       " '20_46971098@N00',\n",
       " '9_49503114554@N01',\n",
       " '2_25425455@N04',\n",
       " '0_9137715@N05',\n",
       " '3_61368956@N00',\n",
       " '14_81788993@N00',\n",
       " '28_69001323@N00',\n",
       " '59_70318325@N00',\n",
       " '3_64834167@N00',\n",
       " '11_28817993@N00',\n",
       " '0_49745694@N00',\n",
       " '0_34334923@N08',\n",
       " '2_15296966@N00',\n",
       " '0_45695345@N00',\n",
       " '21_99706198@N00',\n",
       " '6_63216127@N04',\n",
       " '9_79891443@N00',\n",
       " '19_63262340@N00',\n",
       " '10_28815288@N06',\n",
       " '135_22489773@N02',\n",
       " '1_74135127@N00',\n",
       " '0_35034350216@N01',\n",
       " '0_96481507@N04',\n",
       " '43_77179348@N00',\n",
       " '0_75875954@N00',\n",
       " '30_12873985@N00',\n",
       " '85_39926655@N04',\n",
       " '1_29142829@N00',\n",
       " '14_35118454@N00',\n",
       " '0_45345488@N02',\n",
       " '9_97734635@N00',\n",
       " '0_40215530@N00',\n",
       " '3_27681741@N06',\n",
       " '24_36022626@N00',\n",
       " '27_41385059@N04',\n",
       " '10_8909796@N07',\n",
       " '0_80418937@N00',\n",
       " '0_50353143@N00',\n",
       " '0_8055436@N08',\n",
       " '806_28004289@N03',\n",
       " '15_44082489@N00',\n",
       " '11_83165152@N00',\n",
       " '21_82526175@N00',\n",
       " '46_97863854@N00',\n",
       " '76_14678786@N00',\n",
       " '3_87496841@N00',\n",
       " '2_27883710@N08',\n",
       " '4_67272078@N00',\n",
       " '5_25802865@N08',\n",
       " '15_84351449@N00',\n",
       " '1_8812117@N06',\n",
       " '5_94949785@N00',\n",
       " '22_17273949@N00',\n",
       " '46_51168133@N00',\n",
       " '1_24566964@N08',\n",
       " '66_48009694@N00',\n",
       " '77_27998473@N02',\n",
       " '3_49231590@N07',\n",
       " '2_86491730@N00',\n",
       " '5_19479358@N00',\n",
       " '3_8410258@N03',\n",
       " '13_56183392@N00',\n",
       " '1_98555005@N00',\n",
       " '5_53125271@N04',\n",
       " '6_23244282@N00',\n",
       " '6_41894151021@N01',\n",
       " '6_27874898@N00',\n",
       " '27_7273032@N04',\n",
       " '57_66555845@N00',\n",
       " '223_32806640@N00',\n",
       " '15_10175970@N00',\n",
       " '22_61577908@N00',\n",
       " '0_28004076@N04',\n",
       " '1_14477877@N08',\n",
       " '15_29619840@N00',\n",
       " '27_60756254@N07',\n",
       " '0_73531427@N00',\n",
       " '6_16501075@N00',\n",
       " '46_14994572@N00',\n",
       " '8_22007612@N05',\n",
       " '0_77321705@N00',\n",
       " '65_57185608@N00',\n",
       " '2_20483509@N00',\n",
       " '43_29530287@N05',\n",
       " '4_57087695@N00',\n",
       " '30_51030901@N06',\n",
       " '9_76758469@N00',\n",
       " '39_64379474@N00',\n",
       " '24_59392555@N00',\n",
       " '10_34816268@N06',\n",
       " '4_97285730@N00',\n",
       " '1_23597967@N00',\n",
       " '0_65212266@N00',\n",
       " '0_8724620@N06',\n",
       " '1_44124452748@N01',\n",
       " '7_80699566@N00',\n",
       " '4_25142355@N03',\n",
       " '7_34073445@N00',\n",
       " '2_54084941@N00',\n",
       " '72_61577908@N00',\n",
       " '19_78672040@N00',\n",
       " '5_54084941@N00',\n",
       " '5_53687491@N00',\n",
       " '41_48999318@N00',\n",
       " '18_22749993@N08',\n",
       " '3_37484778@N05',\n",
       " '1_62773263@N00',\n",
       " '164_10845359@N02',\n",
       " '13_8389569@N08',\n",
       " '9_60053005@N00',\n",
       " '4_34579818@N00',\n",
       " '122_9911655@N08',\n",
       " '19_10340578@N06',\n",
       " '7_29142829@N00',\n",
       " '9_48355243@N00',\n",
       " '28_34186459@N00',\n",
       " '13_85121963@N00',\n",
       " '1_27675896@N07',\n",
       " '1_74628614@N00',\n",
       " '74_33037982@N04',\n",
       " '0_24424557@N00',\n",
       " '64_16921893@N00',\n",
       " '11_76701708@N00',\n",
       " '155_12982516@N02',\n",
       " '0_11468399@N04',\n",
       " '13_19939966@N00',\n",
       " '2_43198495@N05',\n",
       " '152_82394503@N00',\n",
       " '34_24311648@N00',\n",
       " '4_75885890@N00',\n",
       " '1_78479478@N00',\n",
       " '7_33507204@N00',\n",
       " '2_10351901@N00',\n",
       " '0_41312242@N00',\n",
       " '15_22372256@N08',\n",
       " '7_7349747@N02',\n",
       " '1_9654398@N07',\n",
       " '70_38439215@N06',\n",
       " '0_52420375@N07',\n",
       " '8_91462077@N00',\n",
       " '43_97863854@N00',\n",
       " '4_75897017@N05',\n",
       " '47_14678786@N00',\n",
       " '7_69966484@N00',\n",
       " '0_51673756@N02',\n",
       " '46_66478195@N00',\n",
       " '26_30335727@N00',\n",
       " '4_97867946@N00',\n",
       " '27_79172203@N00',\n",
       " '44_14580956@N08',\n",
       " '31_31915621@N04',\n",
       " '7_26216388@N02',\n",
       " '12_51035598215@N01',\n",
       " '85_97863854@N00',\n",
       " '1_30984985@N06',\n",
       " '21_40305917@N00',\n",
       " '9_33456880@N00',\n",
       " '61_58213213@N00',\n",
       " '1_25425455@N04',\n",
       " '0_64041142@N00',\n",
       " '37_50879678@N03',\n",
       " '1_53363419@N00',\n",
       " '0_60100060@N03',\n",
       " '55_48600095270@N01',\n",
       " '6_34843664@N00',\n",
       " '0_37321283@N00',\n",
       " '7_72685908@N00',\n",
       " '0_37148834@N02',\n",
       " '12_7273032@N04',\n",
       " '11_59525567@N00',\n",
       " '3_41773804@N08',\n",
       " '10_42445822@N00',\n",
       " '5_32991505@N00',\n",
       " '0_13738448@N03',\n",
       " '0_56276457@N00',\n",
       " '8_52089579@N07',\n",
       " '22_69001323@N00',\n",
       " '2_33735840@N00',\n",
       " '0_63657240@N00',\n",
       " '57_24914070@N07',\n",
       " '6_22298070@N00',\n",
       " '73_15853267@N00',\n",
       " '0_32777246@N08',\n",
       " '0_10069045@N00',\n",
       " '0_18662595@N00',\n",
       " '6_81217355@N00',\n",
       " '9_34507951@N07',\n",
       " '2_41835989@N00',\n",
       " '7_25305687@N00',\n",
       " '9_87807876@N00',\n",
       " '55_26432031@N04',\n",
       " '4_110081326@N06',\n",
       " '27_87652690@N00',\n",
       " '3_70759724@N00',\n",
       " '1_50318385@N00',\n",
       " '0_13804693@N00',\n",
       " '36_90715281@N00',\n",
       " '5_7826272@N06',\n",
       " '1_56922885@N00',\n",
       " '24_81365121@N00',\n",
       " '19_13731663@N08',\n",
       " '5_73207483@N00',\n",
       " '91_68081288@N00',\n",
       " '2_48889099483@N01',\n",
       " '5_61963330@N00',\n",
       " '14_30556826@N04',\n",
       " '0_98819513@N00',\n",
       " '0_76222606@N03',\n",
       " '3_21260671@N04',\n",
       " '10_24064901@N00',\n",
       " '4_92905644@N00',\n",
       " '0_72476440@N00',\n",
       " '14_23807199@N00',\n",
       " '25_33009542@N00',\n",
       " '6_7273032@N04',\n",
       " '12_12734746@N00',\n",
       " '31_24879135@N04',\n",
       " '3_95221559@N00',\n",
       " '0_10937625@N06',\n",
       " '5_64073647@N04',\n",
       " '49_92248347@N00',\n",
       " '2_32451477@N02',\n",
       " '6_18560756@N05',\n",
       " '4_67408512@N03',\n",
       " '1_64672857@N02',\n",
       " '20_89873814@N00',\n",
       " '62_24914070@N07',\n",
       " '10_27813593@N00',\n",
       " '1_84751527@N00',\n",
       " '92_66478195@N00',\n",
       " '5_55628714@N03',\n",
       " '2_51035602203@N01',\n",
       " '1_25428967@N00',\n",
       " '30_49165041@N00',\n",
       " '1_52304204@N00',\n",
       " '1_64996885@N00',\n",
       " '25_63657240@N00',\n",
       " '3_59466009@N02',\n",
       " '1_81662141@N00',\n",
       " '118_81227945@N00',\n",
       " '5_52061471@N00',\n",
       " '13_35578067@N00',\n",
       " '30_13731663@N08',\n",
       " '7_89333651@N00',\n",
       " '1_7614607@N05',\n",
       " '2_67272078@N00',\n",
       " '0_96306947@N07',\n",
       " '51_27988337@N00',\n",
       " '3_7788030@N06',\n",
       " '1_32573704@N00',\n",
       " '1_23089307@N02',\n",
       " '13_35610348@N02',\n",
       " '7_9783357@N08',\n",
       " '15_30979614@N07',\n",
       " '0_51286430@N00',\n",
       " '124_8798099@N02',\n",
       " '1_24104181@N04',\n",
       " '158_32806640@N00',\n",
       " '22_60597745@N00',\n",
       " '2_10340578@N06',\n",
       " '17_16036153@N04',\n",
       " '28_54182068@N00',\n",
       " '2_21992612@N03',\n",
       " '2_39979407@N05',\n",
       " '25_32628129@N04',\n",
       " '4_16441028@N00',\n",
       " '31_51159953@N00',\n",
       " '10_11960451@N04',\n",
       " '24_97863854@N00',\n",
       " '0_17746744@N08',\n",
       " '28_7488461@N05',\n",
       " '7_71486434@N00',\n",
       " '0_70054695@N00',\n",
       " '0_10017016@N03',\n",
       " '8_34286231@N00',\n",
       " '117_7436989@N05',\n",
       " '16_44921934@N00',\n",
       " '12_77866964@N00',\n",
       " '0_35476119@N03',\n",
       " '2_60509459@N00',\n",
       " '0_24595627@N00',\n",
       " '1_97889175@N00',\n",
       " '39_60683333@N00',\n",
       " '136_86383385@N00',\n",
       " '1_33274213@N07',\n",
       " '19_25874444@N00',\n",
       " '0_30214240@N02',\n",
       " '1_31102014@N07',\n",
       " '4_39983473@N00',\n",
       " '29_89044848@N00',\n",
       " '37_90784314@N00',\n",
       " '22_64596573@N00',\n",
       " '5_16161105@N00',\n",
       " '35_15426517@N07',\n",
       " '6_31348155@N03',\n",
       " '10_15705002@N00',\n",
       " '86_79172203@N00',\n",
       " '2_12925373@N00',\n",
       " '41_21393555@N04',\n",
       " '4_10801270@N02',\n",
       " '1_42872607@N00',\n",
       " '28_37996586296@N01',\n",
       " '5_33553430@N00',\n",
       " '6_21221914@N05',\n",
       " '29_23743320@N03',\n",
       " '21_15705002@N00',\n",
       " '625_86383385@N00',\n",
       " '67_57810730@N03',\n",
       " '29_7877597@N08',\n",
       " '78_14451269@N00',\n",
       " '3_41838028@N00',\n",
       " '1_14883238@N02',\n",
       " '1_25712082@N05',\n",
       " '2_91748271@N00',\n",
       " '78_44082489@N00',\n",
       " '0_65526836@N03',\n",
       " '215_37885263@N05',\n",
       " '65_62091376@N03',\n",
       " '25_8123170@N06',\n",
       " '0_23034322@N02',\n",
       " '19_78563885@N00',\n",
       " '38_53628484@N00',\n",
       " '9_9081838@N04',\n",
       " '305_44124466908@N01',\n",
       " '3_87708604@N04',\n",
       " '0_48765744@N00',\n",
       " '6_32389209@N05',\n",
       " '1_9490254@N06',\n",
       " '18_21983356@N00',\n",
       " '1_26046068@N04',\n",
       " '5_15939977@N05',\n",
       " '25_69875617@N00',\n",
       " '3_77313770@N00',\n",
       " '3_20667259@N04',\n",
       " '5_12914838@N00',\n",
       " '3_60311165@N04',\n",
       " '1_90427028@N00',\n",
       " '45_13232346@N00',\n",
       " '9_38008469@N00',\n",
       " '95_81227945@N00',\n",
       " '46_93452909@N00',\n",
       " '44_59972430@N00',\n",
       " '6_24618883@N07',\n",
       " '95_66478195@N00',\n",
       " '0_41758531@N08',\n",
       " '376_86383385@N00',\n",
       " '4_15636846@N00']"
      ]
     },
     "execution_count": 25,
     "metadata": {},
     "output_type": "execute_result"
    }
   ],
   "source": [
    "test"
   ]
  },
  {
   "cell_type": "code",
   "execution_count": 82,
   "metadata": {},
   "outputs": [],
   "source": [
    "train = X_train.tolist()"
   ]
  },
  {
   "cell_type": "code",
   "execution_count": 83,
   "metadata": {},
   "outputs": [],
   "source": [
    "np.savetxt('train.txt', train, fmt='%s', newline='\\n')"
   ]
  },
  {
   "cell_type": "code",
   "execution_count": 59,
   "metadata": {},
   "outputs": [
    {
     "ename": "ValueError",
     "evalue": "Data must be 1-dimensional",
     "output_type": "error",
     "traceback": [
      "\u001b[0;31m---------------------------------------------------------------------------\u001b[0m",
      "\u001b[0;31mValueError\u001b[0m                                Traceback (most recent call last)",
      "\u001b[0;32m/tmp/ipykernel_76370/1464639982.py\u001b[0m in \u001b[0;36m<module>\u001b[0;34m\u001b[0m\n\u001b[0;32m----> 1\u001b[0;31m \u001b[0msource\u001b[0m \u001b[0;34m=\u001b[0m \u001b[0mpd\u001b[0m\u001b[0;34m.\u001b[0m\u001b[0mSeries\u001b[0m\u001b[0;34m(\u001b[0m\u001b[0my_train_multi\u001b[0m\u001b[0;34m)\u001b[0m\u001b[0;34m.\u001b[0m\u001b[0mvalue_counts\u001b[0m\u001b[0;34m(\u001b[0m\u001b[0;34m)\u001b[0m\u001b[0;34m\u001b[0m\u001b[0;34m\u001b[0m\u001b[0m\n\u001b[0m\u001b[1;32m      2\u001b[0m \u001b[0msource\u001b[0m\u001b[0;34m\u001b[0m\u001b[0;34m\u001b[0m\u001b[0m\n\u001b[1;32m      3\u001b[0m \u001b[0;31m# fig = go.Figure(data=[go.Pie(labels=source.index,values=source.values)])\u001b[0m\u001b[0;34m\u001b[0m\u001b[0;34m\u001b[0m\u001b[0;34m\u001b[0m\u001b[0m\n\u001b[1;32m      4\u001b[0m \u001b[0;31m# fig.update_layout(title='Label distribution')\u001b[0m\u001b[0;34m\u001b[0m\u001b[0;34m\u001b[0m\u001b[0;34m\u001b[0m\u001b[0m\n\u001b[1;32m      5\u001b[0m \u001b[0;31m# fig.show()\u001b[0m\u001b[0;34m\u001b[0m\u001b[0;34m\u001b[0m\u001b[0;34m\u001b[0m\u001b[0m\n",
      "\u001b[0;32m~/.conda/envs/py38/lib/python3.8/site-packages/pandas/core/series.py\u001b[0m in \u001b[0;36m__init__\u001b[0;34m(self, data, index, dtype, name, copy, fastpath)\u001b[0m\n\u001b[1;32m    437\u001b[0m                     \u001b[0mdata\u001b[0m \u001b[0;34m=\u001b[0m \u001b[0mdata\u001b[0m\u001b[0;34m.\u001b[0m\u001b[0mcopy\u001b[0m\u001b[0;34m(\u001b[0m\u001b[0;34m)\u001b[0m\u001b[0;34m\u001b[0m\u001b[0;34m\u001b[0m\u001b[0m\n\u001b[1;32m    438\u001b[0m             \u001b[0;32melse\u001b[0m\u001b[0;34m:\u001b[0m\u001b[0;34m\u001b[0m\u001b[0;34m\u001b[0m\u001b[0m\n\u001b[0;32m--> 439\u001b[0;31m                 \u001b[0mdata\u001b[0m \u001b[0;34m=\u001b[0m \u001b[0msanitize_array\u001b[0m\u001b[0;34m(\u001b[0m\u001b[0mdata\u001b[0m\u001b[0;34m,\u001b[0m \u001b[0mindex\u001b[0m\u001b[0;34m,\u001b[0m \u001b[0mdtype\u001b[0m\u001b[0;34m,\u001b[0m \u001b[0mcopy\u001b[0m\u001b[0;34m)\u001b[0m\u001b[0;34m\u001b[0m\u001b[0;34m\u001b[0m\u001b[0m\n\u001b[0m\u001b[1;32m    440\u001b[0m \u001b[0;34m\u001b[0m\u001b[0m\n\u001b[1;32m    441\u001b[0m                 \u001b[0mmanager\u001b[0m \u001b[0;34m=\u001b[0m \u001b[0mget_option\u001b[0m\u001b[0;34m(\u001b[0m\u001b[0;34m\"mode.data_manager\"\u001b[0m\u001b[0;34m)\u001b[0m\u001b[0;34m\u001b[0m\u001b[0;34m\u001b[0m\u001b[0m\n",
      "\u001b[0;32m~/.conda/envs/py38/lib/python3.8/site-packages/pandas/core/construction.py\u001b[0m in \u001b[0;36msanitize_array\u001b[0;34m(data, index, dtype, copy, raise_cast_failure, allow_2d)\u001b[0m\n\u001b[1;32m    574\u001b[0m                 \u001b[0msubarr\u001b[0m \u001b[0;34m=\u001b[0m \u001b[0mmaybe_infer_to_datetimelike\u001b[0m\u001b[0;34m(\u001b[0m\u001b[0msubarr\u001b[0m\u001b[0;34m)\u001b[0m\u001b[0;34m\u001b[0m\u001b[0;34m\u001b[0m\u001b[0m\n\u001b[1;32m    575\u001b[0m \u001b[0;34m\u001b[0m\u001b[0m\n\u001b[0;32m--> 576\u001b[0;31m     \u001b[0msubarr\u001b[0m \u001b[0;34m=\u001b[0m \u001b[0m_sanitize_ndim\u001b[0m\u001b[0;34m(\u001b[0m\u001b[0msubarr\u001b[0m\u001b[0;34m,\u001b[0m \u001b[0mdata\u001b[0m\u001b[0;34m,\u001b[0m \u001b[0mdtype\u001b[0m\u001b[0;34m,\u001b[0m \u001b[0mindex\u001b[0m\u001b[0;34m,\u001b[0m \u001b[0mallow_2d\u001b[0m\u001b[0;34m=\u001b[0m\u001b[0mallow_2d\u001b[0m\u001b[0;34m)\u001b[0m\u001b[0;34m\u001b[0m\u001b[0;34m\u001b[0m\u001b[0m\n\u001b[0m\u001b[1;32m    577\u001b[0m \u001b[0;34m\u001b[0m\u001b[0m\n\u001b[1;32m    578\u001b[0m     \u001b[0;32mif\u001b[0m \u001b[0misinstance\u001b[0m\u001b[0;34m(\u001b[0m\u001b[0msubarr\u001b[0m\u001b[0;34m,\u001b[0m \u001b[0mnp\u001b[0m\u001b[0;34m.\u001b[0m\u001b[0mndarray\u001b[0m\u001b[0;34m)\u001b[0m\u001b[0;34m:\u001b[0m\u001b[0;34m\u001b[0m\u001b[0;34m\u001b[0m\u001b[0m\n",
      "\u001b[0;32m~/.conda/envs/py38/lib/python3.8/site-packages/pandas/core/construction.py\u001b[0m in \u001b[0;36m_sanitize_ndim\u001b[0;34m(result, data, dtype, index, allow_2d)\u001b[0m\n\u001b[1;32m    625\u001b[0m             \u001b[0;32mif\u001b[0m \u001b[0mallow_2d\u001b[0m\u001b[0;34m:\u001b[0m\u001b[0;34m\u001b[0m\u001b[0;34m\u001b[0m\u001b[0m\n\u001b[1;32m    626\u001b[0m                 \u001b[0;32mreturn\u001b[0m \u001b[0mresult\u001b[0m\u001b[0;34m\u001b[0m\u001b[0;34m\u001b[0m\u001b[0m\n\u001b[0;32m--> 627\u001b[0;31m             \u001b[0;32mraise\u001b[0m \u001b[0mValueError\u001b[0m\u001b[0;34m(\u001b[0m\u001b[0;34m\"Data must be 1-dimensional\"\u001b[0m\u001b[0;34m)\u001b[0m\u001b[0;34m\u001b[0m\u001b[0;34m\u001b[0m\u001b[0m\n\u001b[0m\u001b[1;32m    628\u001b[0m         \u001b[0;32mif\u001b[0m \u001b[0mis_object_dtype\u001b[0m\u001b[0;34m(\u001b[0m\u001b[0mdtype\u001b[0m\u001b[0;34m)\u001b[0m \u001b[0;32mand\u001b[0m \u001b[0misinstance\u001b[0m\u001b[0;34m(\u001b[0m\u001b[0mdtype\u001b[0m\u001b[0;34m,\u001b[0m \u001b[0mExtensionDtype\u001b[0m\u001b[0;34m)\u001b[0m\u001b[0;34m:\u001b[0m\u001b[0;34m\u001b[0m\u001b[0;34m\u001b[0m\u001b[0m\n\u001b[1;32m    629\u001b[0m             \u001b[0;31m# i.e. PandasDtype(\"O\")\u001b[0m\u001b[0;34m\u001b[0m\u001b[0;34m\u001b[0m\u001b[0;34m\u001b[0m\u001b[0m\n",
      "\u001b[0;31mValueError\u001b[0m: Data must be 1-dimensional"
     ]
    }
   ],
   "source": [
    "source = pd.Series(y_train_multi).value_counts()\n",
    "source\n",
    "# fig = go.Figure(data=[go.Pie(labels=source.index,values=source.values)])\n",
    "# fig.update_layout(title='Label distribution')\n",
    "# fig.show()"
   ]
  },
  {
   "cell_type": "code",
   "execution_count": 130,
   "metadata": {},
   "outputs": [],
   "source": [
    "np.savetxt('test.txt', test, fmt='%s', newline='\\n')"
   ]
  },
  {
   "cell_type": "code",
   "execution_count": 87,
   "metadata": {},
   "outputs": [
    {
     "data": {
      "text/html": [
       "<div>\n",
       "<style scoped>\n",
       "    .dataframe tbody tr th:only-of-type {\n",
       "        vertical-align: middle;\n",
       "    }\n",
       "\n",
       "    .dataframe tbody tr th {\n",
       "        vertical-align: top;\n",
       "    }\n",
       "\n",
       "    .dataframe thead th {\n",
       "        text-align: right;\n",
       "    }\n",
       "</style>\n",
       "<table border=\"1\" class=\"dataframe\">\n",
       "  <thead>\n",
       "    <tr style=\"text-align: right;\">\n",
       "      <th></th>\n",
       "      <th>0</th>\n",
       "      <th>1</th>\n",
       "      <th>2</th>\n",
       "    </tr>\n",
       "  </thead>\n",
       "  <tbody>\n",
       "    <tr>\n",
       "      <th>1_89803116@N00</th>\n",
       "      <td>Birthday</td>\n",
       "      <td>None</td>\n",
       "      <td>None</td>\n",
       "    </tr>\n",
       "    <tr>\n",
       "      <th>189_71606984@N00</th>\n",
       "      <td>GroupActivity</td>\n",
       "      <td>CasualFamilyGather</td>\n",
       "      <td>None</td>\n",
       "    </tr>\n",
       "    <tr>\n",
       "      <th>16_74628614@N00</th>\n",
       "      <td>Halloween</td>\n",
       "      <td>None</td>\n",
       "      <td>None</td>\n",
       "    </tr>\n",
       "    <tr>\n",
       "      <th>4_65768710@N00</th>\n",
       "      <td>Cruise</td>\n",
       "      <td>None</td>\n",
       "      <td>None</td>\n",
       "    </tr>\n",
       "    <tr>\n",
       "      <th>26_93382693@N00</th>\n",
       "      <td>Graduation</td>\n",
       "      <td>None</td>\n",
       "      <td>None</td>\n",
       "    </tr>\n",
       "    <tr>\n",
       "      <th>...</th>\n",
       "      <td>...</td>\n",
       "      <td>...</td>\n",
       "      <td>...</td>\n",
       "    </tr>\n",
       "    <tr>\n",
       "      <th>2_25425455@N04</th>\n",
       "      <td>Graduation</td>\n",
       "      <td>None</td>\n",
       "      <td>None</td>\n",
       "    </tr>\n",
       "    <tr>\n",
       "      <th>108_84806883@N00</th>\n",
       "      <td>Halloween</td>\n",
       "      <td>None</td>\n",
       "      <td>None</td>\n",
       "    </tr>\n",
       "    <tr>\n",
       "      <th>17_20278037@N00</th>\n",
       "      <td>Christmas</td>\n",
       "      <td>None</td>\n",
       "      <td>None</td>\n",
       "    </tr>\n",
       "    <tr>\n",
       "      <th>46_35034360223@N01</th>\n",
       "      <td>GroupActivity</td>\n",
       "      <td>None</td>\n",
       "      <td>None</td>\n",
       "    </tr>\n",
       "    <tr>\n",
       "      <th>1_11182695@N03</th>\n",
       "      <td>BusinessActivity</td>\n",
       "      <td>None</td>\n",
       "      <td>None</td>\n",
       "    </tr>\n",
       "  </tbody>\n",
       "</table>\n",
       "<p>1883 rows × 3 columns</p>\n",
       "</div>"
      ],
      "text/plain": [
       "                                   0                   1     2\n",
       "1_89803116@N00              Birthday                None  None\n",
       "189_71606984@N00       GroupActivity  CasualFamilyGather  None\n",
       "16_74628614@N00            Halloween                None  None\n",
       "4_65768710@N00                Cruise                None  None\n",
       "26_93382693@N00           Graduation                None  None\n",
       "...                              ...                 ...   ...\n",
       "2_25425455@N04            Graduation                None  None\n",
       "108_84806883@N00           Halloween                None  None\n",
       "17_20278037@N00            Christmas                None  None\n",
       "46_35034360223@N01     GroupActivity                None  None\n",
       "1_11182695@N03      BusinessActivity                None  None\n",
       "\n",
       "[1883 rows x 3 columns]"
      ]
     },
     "execution_count": 87,
     "metadata": {},
     "output_type": "execute_result"
    }
   ],
   "source": [
    "df"
   ]
  },
  {
   "cell_type": "code",
   "execution_count": 118,
   "metadata": {},
   "outputs": [
    {
     "data": {
      "text/html": [
       "<div>\n",
       "<style scoped>\n",
       "    .dataframe tbody tr th:only-of-type {\n",
       "        vertical-align: middle;\n",
       "    }\n",
       "\n",
       "    .dataframe tbody tr th {\n",
       "        vertical-align: top;\n",
       "    }\n",
       "\n",
       "    .dataframe thead th {\n",
       "        text-align: right;\n",
       "    }\n",
       "</style>\n",
       "<table border=\"1\" class=\"dataframe\">\n",
       "  <thead>\n",
       "    <tr style=\"text-align: right;\">\n",
       "      <th></th>\n",
       "      <th>0</th>\n",
       "      <th>1</th>\n",
       "      <th>2</th>\n",
       "    </tr>\n",
       "  </thead>\n",
       "  <tbody>\n",
       "    <tr>\n",
       "      <th>count</th>\n",
       "      <td>1520</td>\n",
       "      <td>0</td>\n",
       "      <td>0</td>\n",
       "    </tr>\n",
       "    <tr>\n",
       "      <th>unique</th>\n",
       "      <td>23</td>\n",
       "      <td>0</td>\n",
       "      <td>0</td>\n",
       "    </tr>\n",
       "    <tr>\n",
       "      <th>top</th>\n",
       "      <td>Wedding</td>\n",
       "      <td>NaN</td>\n",
       "      <td>NaN</td>\n",
       "    </tr>\n",
       "    <tr>\n",
       "      <th>freq</th>\n",
       "      <td>191</td>\n",
       "      <td>NaN</td>\n",
       "      <td>NaN</td>\n",
       "    </tr>\n",
       "  </tbody>\n",
       "</table>\n",
       "</div>"
      ],
      "text/plain": [
       "              0    1    2\n",
       "count      1520    0    0\n",
       "unique       23    0    0\n",
       "top     Wedding  NaN  NaN\n",
       "freq        191  NaN  NaN"
      ]
     },
     "execution_count": 118,
     "metadata": {},
     "output_type": "execute_result"
    }
   ],
   "source": [
    "df.describe()"
   ]
  },
  {
   "cell_type": "code",
   "execution_count": 109,
   "metadata": {},
   "outputs": [
    {
     "data": {
      "text/html": [
       "<div>\n",
       "<style scoped>\n",
       "    .dataframe tbody tr th:only-of-type {\n",
       "        vertical-align: middle;\n",
       "    }\n",
       "\n",
       "    .dataframe tbody tr th {\n",
       "        vertical-align: top;\n",
       "    }\n",
       "\n",
       "    .dataframe thead th {\n",
       "        text-align: right;\n",
       "    }\n",
       "</style>\n",
       "<table border=\"1\" class=\"dataframe\">\n",
       "  <thead>\n",
       "    <tr style=\"text-align: right;\">\n",
       "      <th></th>\n",
       "      <th>0</th>\n",
       "      <th>1</th>\n",
       "      <th>2</th>\n",
       "    </tr>\n",
       "  </thead>\n",
       "  <tbody>\n",
       "    <tr>\n",
       "      <th>9_68986342@N00</th>\n",
       "      <td>PersonalMusicActivity</td>\n",
       "      <td>None</td>\n",
       "      <td>None</td>\n",
       "    </tr>\n",
       "  </tbody>\n",
       "</table>\n",
       "</div>"
      ],
      "text/plain": [
       "                                    0     1     2\n",
       "9_68986342@N00  PersonalMusicActivity  None  None"
      ]
     },
     "execution_count": 109,
     "metadata": {},
     "output_type": "execute_result"
    }
   ],
   "source": [
    "df[df[0] == 'PersonalMusicActivity']"
   ]
  },
  {
   "cell_type": "code",
   "execution_count": 110,
   "metadata": {},
   "outputs": [],
   "source": [
    "df = df[df[0] != 'PersonalMusicActivity']"
   ]
  },
  {
   "cell_type": "code",
   "execution_count": 111,
   "metadata": {},
   "outputs": [
    {
     "data": {
      "text/html": [
       "<div>\n",
       "<style scoped>\n",
       "    .dataframe tbody tr th:only-of-type {\n",
       "        vertical-align: middle;\n",
       "    }\n",
       "\n",
       "    .dataframe tbody tr th {\n",
       "        vertical-align: top;\n",
       "    }\n",
       "\n",
       "    .dataframe thead th {\n",
       "        text-align: right;\n",
       "    }\n",
       "</style>\n",
       "<table border=\"1\" class=\"dataframe\">\n",
       "  <thead>\n",
       "    <tr style=\"text-align: right;\">\n",
       "      <th></th>\n",
       "      <th>0</th>\n",
       "      <th>1</th>\n",
       "      <th>2</th>\n",
       "    </tr>\n",
       "  </thead>\n",
       "  <tbody>\n",
       "    <tr>\n",
       "      <th>count</th>\n",
       "      <td>1519</td>\n",
       "      <td>0</td>\n",
       "      <td>0</td>\n",
       "    </tr>\n",
       "    <tr>\n",
       "      <th>unique</th>\n",
       "      <td>22</td>\n",
       "      <td>0</td>\n",
       "      <td>0</td>\n",
       "    </tr>\n",
       "    <tr>\n",
       "      <th>top</th>\n",
       "      <td>Wedding</td>\n",
       "      <td>NaN</td>\n",
       "      <td>NaN</td>\n",
       "    </tr>\n",
       "    <tr>\n",
       "      <th>freq</th>\n",
       "      <td>191</td>\n",
       "      <td>NaN</td>\n",
       "      <td>NaN</td>\n",
       "    </tr>\n",
       "  </tbody>\n",
       "</table>\n",
       "</div>"
      ],
      "text/plain": [
       "              0    1    2\n",
       "count      1519    0    0\n",
       "unique       22    0    0\n",
       "top     Wedding  NaN  NaN\n",
       "freq        191  NaN  NaN"
      ]
     },
     "execution_count": 111,
     "metadata": {},
     "output_type": "execute_result"
    }
   ],
   "source": [
    "df.describe()"
   ]
  },
  {
   "cell_type": "code",
   "execution_count": 112,
   "metadata": {},
   "outputs": [],
   "source": [
    "# val = df.groupby(0).apply(lambda s: s.sample(6)).index.tolist()\n",
    "val = df.groupby(0).apply(lambda s: s.sample(5)).index.tolist()"
   ]
  },
  {
   "cell_type": "code",
   "execution_count": 134,
   "metadata": {},
   "outputs": [],
   "source": [
    "val = np.loadtxt('val.txt',dtype='str',delimiter='\\n')"
   ]
  },
  {
   "cell_type": "code",
   "execution_count": 138,
   "metadata": {},
   "outputs": [
    {
     "name": "stdout",
     "output_type": "stream",
     "text": [
      "['0_75875954@N00' '0_9154295@N04' '4_54781523@N00' '9_21117297@N00'\n",
      " '7_53834128@N06' '4_81487723@N00' '40_52725445@N00' '2_77784942@N00'\n",
      " '4_40246574@N04' '96_25414369@N00' '17_95601478@N00' '21_82526175@N00'\n",
      " '11_28817993@N00' '5_37588808@N00' '3_16976034@N00' '3_27859631@N04'\n",
      " '1_53363419@N00' '1_50964933@N08' '13_23654380@N00' '1_16289690@N00'\n",
      " '11_76701708@N00' '2_54084941@N00' '20_52736950@N00' '56_87807876@N00'\n",
      " '92_43162195@N00' '18_14966804@N03' '83_13122632@N00' '14_53746192@N00'\n",
      " '6_44284754@N03' '1_45082883@N00' '13_77888804@N00' '6_10978503@N00'\n",
      " '4_99382980@N00' '22_17593639@N08' '5_94949785@N00' '0_68321476@N00'\n",
      " '7_28316081@N00' '0_91151414@N00' '26_93382693@N00' '0_92024390@N00'\n",
      " '3_48889087714@N01' '64_43682941@N00' '49_92248347@N00'\n",
      " '110_28004289@N03' '0_7706183@N06' '7_26216388@N02' '0_69468712@N00'\n",
      " '12_97551727@N00' '116_71453924@N00' '0_40958113@N00' '236_7702423@N04'\n",
      " '15_59809888@N06' '9_44718928@N00' '29_51035749109@N01' '8_98153629@N00'\n",
      " '72_25483059@N08' '0_56276457@N00' '22_14966804@N03' '11_15672358@N00'\n",
      " '12_23724950@N03' '27_8386148@N06' '13_56183392@N00' '44_29530287@N05'\n",
      " '2_28832703@N00' '0_63287070@N00' '12_29156648@N03' '67_40077566@N00'\n",
      " '15_30979614@N07' '20_60136821@N03' '18_74626133@N00' '1_50016673@N00'\n",
      " '0_17644383@N00' '8_11039569@N03' '0_72632725@N00' '158_51035555243@N01'\n",
      " '27_81227945@N00' '2_27791997@N03' '38_62126383@N00' '47_65954261@N00'\n",
      " '42_14177443@N00' '9_28445735@N00' '51_66555845@N00' '28_34186459@N00'\n",
      " '7_80699566@N00' '16_14403208@N00' '7_20711027@N07' '5_73207483@N00'\n",
      " '4_67407461@N00' '544_80161911@N00' '0_50683413@N00' '21_49934509@N00'\n",
      " '28_60812857@N05' '92_66478195@N00' '1_29142829@N00' '17_8113830@N07'\n",
      " '165_20948708@N06' '2_96212491@N00' '519_35034347371@N01'\n",
      " '9_32934461@N00' '31_55935853@N00' '10_7512717@N06' '6_98827484@N00'\n",
      " '0_28135215@N00' '26_7614607@N05' '6_91041933@N00' '13_97725124@N00'\n",
      " '5_71453924@N00' '0_95837490@N00' '52_74743437@N00' '1_17463552@N00'\n",
      " '9_68986342@N00']\n"
     ]
    }
   ],
   "source": [
    "print(val)"
   ]
  },
  {
   "cell_type": "code",
   "execution_count": 119,
   "metadata": {},
   "outputs": [],
   "source": [
    "train = df.index.tolist()"
   ]
  },
  {
   "cell_type": "code",
   "execution_count": 121,
   "metadata": {},
   "outputs": [
    {
     "data": {
      "text/plain": [
       "1520"
      ]
     },
     "execution_count": 121,
     "metadata": {},
     "output_type": "execute_result"
    }
   ],
   "source": [
    "len(train)"
   ]
  },
  {
   "cell_type": "code",
   "execution_count": 122,
   "metadata": {},
   "outputs": [],
   "source": [
    "np.savetxt('train.txt',train,fmt='%s', newline='\\n')"
   ]
  },
  {
   "cell_type": "code",
   "execution_count": 7,
   "metadata": {},
   "outputs": [
    {
     "data": {
      "text/plain": [
       "Wedding                  195\n",
       "Birthday                 183\n",
       "Graduation               176\n",
       "Show                     126\n",
       "UrbanTrip                117\n",
       "Zoo                      109\n",
       "Halloween                106\n",
       "Christmas                103\n",
       "ThemePark                 99\n",
       "PersonalSports            75\n",
       "Sports                    72\n",
       "Cruise                    52\n",
       "BusinessActivity          51\n",
       "Museum                    50\n",
       "NatureTrip                49\n",
       "Protest                   49\n",
       "ReligiousActivity         48\n",
       "BeachTrip                 46\n",
       "GroupActivity             45\n",
       "Architecture              41\n",
       "CasualFamilyGather        40\n",
       "PersonalArtActivity       40\n",
       "PersonalMusicActivity     11\n",
       "Name: 0, dtype: int64"
      ]
     },
     "execution_count": 7,
     "metadata": {},
     "output_type": "execute_result"
    }
   ],
   "source": [
    "df[0].value_counts()"
   ]
  },
  {
   "cell_type": "code",
   "execution_count": 5,
   "metadata": {},
   "outputs": [
    {
     "data": {
      "text/html": [
       "<div>\n",
       "<style scoped>\n",
       "    .dataframe tbody tr th:only-of-type {\n",
       "        vertical-align: middle;\n",
       "    }\n",
       "\n",
       "    .dataframe tbody tr th {\n",
       "        vertical-align: top;\n",
       "    }\n",
       "\n",
       "    .dataframe thead th {\n",
       "        text-align: right;\n",
       "    }\n",
       "</style>\n",
       "<table border=\"1\" class=\"dataframe\">\n",
       "  <thead>\n",
       "    <tr style=\"text-align: right;\">\n",
       "      <th></th>\n",
       "      <th>0</th>\n",
       "      <th>1</th>\n",
       "      <th>2</th>\n",
       "    </tr>\n",
       "  </thead>\n",
       "  <tbody>\n",
       "    <tr>\n",
       "      <th>count</th>\n",
       "      <td>1883</td>\n",
       "      <td>363</td>\n",
       "      <td>4</td>\n",
       "    </tr>\n",
       "    <tr>\n",
       "      <th>unique</th>\n",
       "      <td>23</td>\n",
       "      <td>23</td>\n",
       "      <td>4</td>\n",
       "    </tr>\n",
       "    <tr>\n",
       "      <th>top</th>\n",
       "      <td>Wedding</td>\n",
       "      <td>GroupActivity</td>\n",
       "      <td>PersonalSports</td>\n",
       "    </tr>\n",
       "    <tr>\n",
       "      <th>freq</th>\n",
       "      <td>195</td>\n",
       "      <td>42</td>\n",
       "      <td>1</td>\n",
       "    </tr>\n",
       "  </tbody>\n",
       "</table>\n",
       "</div>"
      ],
      "text/plain": [
       "              0              1               2\n",
       "count      1883            363               4\n",
       "unique       23             23               4\n",
       "top     Wedding  GroupActivity  PersonalSports\n",
       "freq        195             42               1"
      ]
     },
     "execution_count": 5,
     "metadata": {},
     "output_type": "execute_result"
    }
   ],
   "source": [
    "df.describe()"
   ]
  },
  {
   "cell_type": "code",
   "execution_count": 78,
   "metadata": {},
   "outputs": [],
   "source": [
    "df_3_labels = df[(df[0].isna() != True ) & (df[1].isna()!= True) & (df[2].isna()!=True)]"
   ]
  },
  {
   "cell_type": "code",
   "execution_count": 79,
   "metadata": {},
   "outputs": [
    {
     "data": {
      "text/html": [
       "<div>\n",
       "<style scoped>\n",
       "    .dataframe tbody tr th:only-of-type {\n",
       "        vertical-align: middle;\n",
       "    }\n",
       "\n",
       "    .dataframe tbody tr th {\n",
       "        vertical-align: top;\n",
       "    }\n",
       "\n",
       "    .dataframe thead th {\n",
       "        text-align: right;\n",
       "    }\n",
       "</style>\n",
       "<table border=\"1\" class=\"dataframe\">\n",
       "  <thead>\n",
       "    <tr style=\"text-align: right;\">\n",
       "      <th></th>\n",
       "      <th>0</th>\n",
       "      <th>1</th>\n",
       "      <th>2</th>\n",
       "    </tr>\n",
       "  </thead>\n",
       "  <tbody>\n",
       "    <tr>\n",
       "      <th>61_33988590@N00</th>\n",
       "      <td>Show</td>\n",
       "      <td>GroupActivity</td>\n",
       "      <td>PersonalSports</td>\n",
       "    </tr>\n",
       "    <tr>\n",
       "      <th>1_26046068@N04</th>\n",
       "      <td>Birthday</td>\n",
       "      <td>CasualFamilyGather</td>\n",
       "      <td>GroupActivity</td>\n",
       "    </tr>\n",
       "    <tr>\n",
       "      <th>1_8579740@N02</th>\n",
       "      <td>GroupActivity</td>\n",
       "      <td>Halloween</td>\n",
       "      <td>PersonalArtActivity</td>\n",
       "    </tr>\n",
       "    <tr>\n",
       "      <th>14_97402086@N00</th>\n",
       "      <td>UrbanTrip</td>\n",
       "      <td>Museum</td>\n",
       "      <td>Architecture</td>\n",
       "    </tr>\n",
       "  </tbody>\n",
       "</table>\n",
       "</div>"
      ],
      "text/plain": [
       "                             0                   1                    2\n",
       "61_33988590@N00           Show       GroupActivity       PersonalSports\n",
       "1_26046068@N04        Birthday  CasualFamilyGather        GroupActivity\n",
       "1_8579740@N02    GroupActivity           Halloween  PersonalArtActivity\n",
       "14_97402086@N00      UrbanTrip              Museum         Architecture"
      ]
     },
     "execution_count": 79,
     "metadata": {},
     "output_type": "execute_result"
    }
   ],
   "source": [
    "df_3_labels"
   ]
  },
  {
   "cell_type": "code",
   "execution_count": 89,
   "metadata": {},
   "outputs": [],
   "source": [
    "df_2_labels = df[(df[0].isna() != True ) & (df[1].isna()!= True)][[0,1]].sort_values(by=[0,1])"
   ]
  },
  {
   "cell_type": "code",
   "execution_count": 115,
   "metadata": {},
   "outputs": [
    {
     "data": {
      "text/html": [
       "<div>\n",
       "<style scoped>\n",
       "    .dataframe tbody tr th:only-of-type {\n",
       "        vertical-align: middle;\n",
       "    }\n",
       "\n",
       "    .dataframe tbody tr th {\n",
       "        vertical-align: top;\n",
       "    }\n",
       "\n",
       "    .dataframe thead th {\n",
       "        text-align: right;\n",
       "    }\n",
       "</style>\n",
       "<table border=\"1\" class=\"dataframe\">\n",
       "  <thead>\n",
       "    <tr style=\"text-align: right;\">\n",
       "      <th></th>\n",
       "      <th>0</th>\n",
       "      <th>1</th>\n",
       "    </tr>\n",
       "  </thead>\n",
       "  <tbody>\n",
       "    <tr>\n",
       "      <th>72_22539273@N00</th>\n",
       "      <td>Architecture</td>\n",
       "      <td>Museum</td>\n",
       "    </tr>\n",
       "    <tr>\n",
       "      <th>25_69875617@N00</th>\n",
       "      <td>Architecture</td>\n",
       "      <td>NatureTrip</td>\n",
       "    </tr>\n",
       "    <tr>\n",
       "      <th>0_30214240@N02</th>\n",
       "      <td>Architecture</td>\n",
       "      <td>PersonalArtActivity</td>\n",
       "    </tr>\n",
       "    <tr>\n",
       "      <th>23_17643132@N00</th>\n",
       "      <td>Architecture</td>\n",
       "      <td>ReligiousActivity</td>\n",
       "    </tr>\n",
       "    <tr>\n",
       "      <th>1_9490254@N06</th>\n",
       "      <td>Architecture</td>\n",
       "      <td>Show</td>\n",
       "    </tr>\n",
       "  </tbody>\n",
       "</table>\n",
       "</div>"
      ],
      "text/plain": [
       "                            0                    1\n",
       "72_22539273@N00  Architecture               Museum\n",
       "25_69875617@N00  Architecture           NatureTrip\n",
       "0_30214240@N02   Architecture  PersonalArtActivity\n",
       "23_17643132@N00  Architecture    ReligiousActivity\n",
       "1_9490254@N06    Architecture                 Show"
      ]
     },
     "execution_count": 115,
     "metadata": {},
     "output_type": "execute_result"
    }
   ],
   "source": [
    "df_2_labels.head()"
   ]
  },
  {
   "cell_type": "code",
   "execution_count": 90,
   "metadata": {},
   "outputs": [],
   "source": [
    "list_2_labels = df_2_labels.values.tolist()"
   ]
  },
  {
   "cell_type": "code",
   "execution_count": 106,
   "metadata": {},
   "outputs": [],
   "source": [
    "confuse = Counter([tuple(i) for i in list_2_labels])"
   ]
  },
  {
   "cell_type": "code",
   "execution_count": 111,
   "metadata": {},
   "outputs": [],
   "source": [
    "Output = pd.DataFrame(data ={'list': list(confuse.keys()),\n",
    "                         'count': list(confuse.values())}).sort_values(by='count',ascending=False)"
   ]
  },
  {
   "cell_type": "code",
   "execution_count": 113,
   "metadata": {},
   "outputs": [
    {
     "data": {
      "text/html": [
       "<div>\n",
       "<style scoped>\n",
       "    .dataframe tbody tr th:only-of-type {\n",
       "        vertical-align: middle;\n",
       "    }\n",
       "\n",
       "    .dataframe tbody tr th {\n",
       "        vertical-align: top;\n",
       "    }\n",
       "\n",
       "    .dataframe thead th {\n",
       "        text-align: right;\n",
       "    }\n",
       "</style>\n",
       "<table border=\"1\" class=\"dataframe\">\n",
       "  <thead>\n",
       "    <tr style=\"text-align: right;\">\n",
       "      <th></th>\n",
       "      <th>list</th>\n",
       "      <th>count</th>\n",
       "    </tr>\n",
       "  </thead>\n",
       "  <tbody>\n",
       "    <tr>\n",
       "      <th>75</th>\n",
       "      <td>(PersonalSports, Sports)</td>\n",
       "      <td>39</td>\n",
       "    </tr>\n",
       "    <tr>\n",
       "      <th>99</th>\n",
       "      <td>(Sports, PersonalSports)</td>\n",
       "      <td>29</td>\n",
       "    </tr>\n",
       "    <tr>\n",
       "      <th>108</th>\n",
       "      <td>(UrbanTrip, Architecture)</td>\n",
       "      <td>16</td>\n",
       "    </tr>\n",
       "    <tr>\n",
       "      <th>122</th>\n",
       "      <td>(Zoo, NatureTrip)</td>\n",
       "      <td>14</td>\n",
       "    </tr>\n",
       "    <tr>\n",
       "      <th>12</th>\n",
       "      <td>(Birthday, CasualFamilyGather)</td>\n",
       "      <td>13</td>\n",
       "    </tr>\n",
       "    <tr>\n",
       "      <th>93</th>\n",
       "      <td>(Show, PersonalMusicActivity)</td>\n",
       "      <td>12</td>\n",
       "    </tr>\n",
       "    <tr>\n",
       "      <th>50</th>\n",
       "      <td>(Halloween, GroupActivity)</td>\n",
       "      <td>11</td>\n",
       "    </tr>\n",
       "    <tr>\n",
       "      <th>5</th>\n",
       "      <td>(Architecture, UrbanTrip)</td>\n",
       "      <td>11</td>\n",
       "    </tr>\n",
       "    <tr>\n",
       "      <th>69</th>\n",
       "      <td>(PersonalMusicActivity, Show)</td>\n",
       "      <td>10</td>\n",
       "    </tr>\n",
       "    <tr>\n",
       "      <th>24</th>\n",
       "      <td>(CasualFamilyGather, GroupActivity)</td>\n",
       "      <td>9</td>\n",
       "    </tr>\n",
       "    <tr>\n",
       "      <th>41</th>\n",
       "      <td>(GroupActivity, CasualFamilyGather)</td>\n",
       "      <td>8</td>\n",
       "    </tr>\n",
       "    <tr>\n",
       "      <th>62</th>\n",
       "      <td>(NatureTrip, Zoo)</td>\n",
       "      <td>8</td>\n",
       "    </tr>\n",
       "    <tr>\n",
       "      <th>53</th>\n",
       "      <td>(Museum, Architecture)</td>\n",
       "      <td>7</td>\n",
       "    </tr>\n",
       "    <tr>\n",
       "      <th>89</th>\n",
       "      <td>(Show, GroupActivity)</td>\n",
       "      <td>7</td>\n",
       "    </tr>\n",
       "    <tr>\n",
       "      <th>14</th>\n",
       "      <td>(Birthday, GroupActivity)</td>\n",
       "      <td>5</td>\n",
       "    </tr>\n",
       "    <tr>\n",
       "      <th>63</th>\n",
       "      <td>(PersonalArtActivity, Architecture)</td>\n",
       "      <td>5</td>\n",
       "    </tr>\n",
       "    <tr>\n",
       "      <th>7</th>\n",
       "      <td>(BeachTrip, Cruise)</td>\n",
       "      <td>4</td>\n",
       "    </tr>\n",
       "    <tr>\n",
       "      <th>34</th>\n",
       "      <td>(Cruise, BeachTrip)</td>\n",
       "      <td>4</td>\n",
       "    </tr>\n",
       "    <tr>\n",
       "      <th>21</th>\n",
       "      <td>(CasualFamilyGather, Birthday)</td>\n",
       "      <td>4</td>\n",
       "    </tr>\n",
       "    <tr>\n",
       "      <th>79</th>\n",
       "      <td>(ReligiousActivity, Architecture)</td>\n",
       "      <td>3</td>\n",
       "    </tr>\n",
       "  </tbody>\n",
       "</table>\n",
       "</div>"
      ],
      "text/plain": [
       "                                    list  count\n",
       "75              (PersonalSports, Sports)     39\n",
       "99              (Sports, PersonalSports)     29\n",
       "108            (UrbanTrip, Architecture)     16\n",
       "122                    (Zoo, NatureTrip)     14\n",
       "12        (Birthday, CasualFamilyGather)     13\n",
       "93         (Show, PersonalMusicActivity)     12\n",
       "50            (Halloween, GroupActivity)     11\n",
       "5              (Architecture, UrbanTrip)     11\n",
       "69         (PersonalMusicActivity, Show)     10\n",
       "24   (CasualFamilyGather, GroupActivity)      9\n",
       "41   (GroupActivity, CasualFamilyGather)      8\n",
       "62                     (NatureTrip, Zoo)      8\n",
       "53                (Museum, Architecture)      7\n",
       "89                 (Show, GroupActivity)      7\n",
       "14             (Birthday, GroupActivity)      5\n",
       "63   (PersonalArtActivity, Architecture)      5\n",
       "7                    (BeachTrip, Cruise)      4\n",
       "34                   (Cruise, BeachTrip)      4\n",
       "21        (CasualFamilyGather, Birthday)      4\n",
       "79     (ReligiousActivity, Architecture)      3"
      ]
     },
     "execution_count": 113,
     "metadata": {},
     "output_type": "execute_result"
    }
   ],
   "source": [
    "Output.head(20)"
   ]
  },
  {
   "cell_type": "code",
   "execution_count": 23,
   "metadata": {},
   "outputs": [
    {
     "data": {
      "text/plain": [
       "Wedding                  195\n",
       "Birthday                 183\n",
       "Graduation               176\n",
       "Show                     126\n",
       "UrbanTrip                117\n",
       "Zoo                      109\n",
       "Halloween                106\n",
       "Christmas                103\n",
       "ThemePark                 99\n",
       "PersonalSports            75\n",
       "Sports                    72\n",
       "Cruise                    52\n",
       "BusinessActivity          51\n",
       "Museum                    50\n",
       "NatureTrip                49\n",
       "Protest                   49\n",
       "ReligiousActivity         48\n",
       "BeachTrip                 46\n",
       "GroupActivity             45\n",
       "Architecture              41\n",
       "CasualFamilyGather        40\n",
       "PersonalArtActivity       40\n",
       "PersonalMusicActivity     11\n",
       "Name: 0, dtype: int64"
      ]
     },
     "execution_count": 23,
     "metadata": {},
     "output_type": "execute_result"
    }
   ],
   "source": [
    "df[0].value_counts()"
   ]
  },
  {
   "cell_type": "code",
   "execution_count": 114,
   "metadata": {},
   "outputs": [
    {
     "data": {
      "text/plain": [
       "<AxesSubplot:ylabel='0'>"
      ]
     },
     "execution_count": 114,
     "metadata": {},
     "output_type": "execute_result"
    },
    {
     "data": {
      "image/png": "[encoded data removed]",
      "text/plain": [
       "<Figure size 432x288 with 1 Axes>"
      ]
     },
     "metadata": {
      "needs_background": "light"
     },
     "output_type": "display_data"
    }
   ],
   "source": [
    "sns.barplot(x=df[0].value_counts().index, y=df[0].value_counts())"
   ]
  },
  {
   "cell_type": "code",
   "execution_count": 118,
   "metadata": {},
   "outputs": [],
   "source": [
    "folder_dataset = dset.ImageFolder(root='/vinai/vietlq4/dataset/CUFED/images')"
   ]
  },
  {
   "cell_type": "code",
   "execution_count": 119,
   "metadata": {},
   "outputs": [
    {
     "data": {
      "text/plain": [
       "Dataset ImageFolder\n",
       "    Number of datapoints: 94797\n",
       "    Root location: /vinai/vietlq4/dataset/CUFED/images"
      ]
     },
     "execution_count": 119,
     "metadata": {},
     "output_type": "execute_result"
    }
   ],
   "source": [
    "folder_dataset"
   ]
  },
  {
   "cell_type": "code",
   "execution_count": 122,
   "metadata": {},
   "outputs": [
    {
     "data": {
      "text/plain": [
       "('/vinai/vietlq4/dataset/CUFED/images/9_97734635@N00/497319001.jpg', 1882)"
      ]
     },
     "execution_count": 122,
     "metadata": {},
     "output_type": "execute_result"
    }
   ],
   "source": [
    "folder_dataset.imgs[-1]"
   ]
  },
  {
   "cell_type": "code",
   "execution_count": 4,
   "metadata": {},
   "outputs": [
    {
     "data": {
      "text/plain": [
       "tensor([[1, 0, 0],\n",
       "        [1, 0, 0],\n",
       "        [1, 0, 0],\n",
       "        [1, 0, 0]])"
      ]
     },
     "execution_count": 4,
     "metadata": {},
     "output_type": "execute_result"
    }
   ],
   "source": [
    "import torch\n",
    "x = torch.tensor([1, 0, 0])\n",
    "x.repeat(4, 1)"
   ]
  },
  {
   "cell_type": "code",
   "execution_count": 80,
   "metadata": {},
   "outputs": [
    {
     "name": "stdout",
     "output_type": "stream",
     "text": [
      "[17, 6, 3, 21, 21, 23, 9, 28, 13, 23, 22, 23, 4, 14, 25, 22, 6, 2, 26, 6, 28, 15, 23, 0, 24, 24, 11, 2, 5, 25, 6, 21]\n"
     ]
    }
   ],
   "source": [
    "from random import choices\n",
    "\n",
    "items = range(0, 31)\n",
    "new_items = choices(items, k = 32)\n",
    "\n",
    "print(new_items) "
   ]
  },
  {
   "cell_type": "code",
   "execution_count": 7,
   "metadata": {},
   "outputs": [],
   "source": [
    "import shutil\n",
    "import os\n",
    "import numpy as np\n",
    "\n",
    "cur_dir = '/home/vietlq4/Downloads/CUFED/images' # current dir path\n",
    "\n",
    "LL = np.loadtxt('/home/vietlq4/thesis/filenames/test.txt', dtype='str', delimiter='\\n')\n",
    "\n",
    "list_dir = os.listdir(cur_dir)\n",
    "dest = os.path.join(cur_dir,'test') \n",
    "\n",
    "for sub_dir in list_dir:\n",
    "    if sub_dir in LL:\n",
    "        dir_to_move = os.path.join(cur_dir, sub_dir)\n",
    "        shutil.move(dir_to_move, dest)"
   ]
  },
  {
   "cell_type": "code",
   "execution_count": null,
   "metadata": {},
   "outputs": [],
   "source": []
  }
 ],
 "metadata": {
  "interpreter": {
   "hash": "88994c7c5e9f29cd5d10978da27f662ce1415360d1a4a5854cc103ae8fde5cef"
  },
  "kernelspec": {
   "display_name": "Python 3.8.11 64-bit ('py38': conda)",
   "language": "python",
   "name": "python3"
  },
  "language_info": {
   "codemirror_mode": {
    "name": "ipython",
    "version": 3
   },
   "file_extension": ".py",
   "mimetype": "text/x-python",
   "name": "python",
   "nbconvert_exporter": "python",
   "pygments_lexer": "ipython3",
   "version": "3.7.0"
  },
  "orig_nbformat": 4
 },
 "nbformat": 4,
 "nbformat_minor": 2
}
